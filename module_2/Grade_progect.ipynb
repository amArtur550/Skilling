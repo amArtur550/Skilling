{
 "cells": [
  {
   "cell_type": "markdown",
   "metadata": {},
   "source": [
    "## EDA анализ данных. Разведывательный анализ данных.\n",
    "Суть проекта — отследить влияние условий жизни учащихся в возрасте от 15 до 22 лет на их успеваемость по математике, чтобы на ранней стадии выявлять студентов, находящихся в группе риска.\n",
    "\n",
    "И сделать это можно с помощью модели, которая предсказывала бы результаты госэкзамена по математике для каждого ученика школы. Чтобы определиться с параметрами будущей модели, нужно провести разведывательный анализ данных и составьте отчёт по его результатам. "
   ]
  },
  {
   "cell_type": "code",
   "execution_count": 5,
   "metadata": {},
   "outputs": [],
   "source": [
    "import pandas as pd\n",
    "import numpy as np\n",
    "import matplotlib.pyplot as plt\n",
    "import seaborn as sns\n",
    "import math\n",
    "from itertools import combinations\n",
    "from scipy.stats import ttest_ind\n",
    "\n",
    "sns.set()\n",
    "\n",
    "%matplotlib inline"
   ]
  },
  {
   "cell_type": "code",
   "execution_count": 55,
   "metadata": {},
   "outputs": [
    {
     "name": "stdout",
     "output_type": "stream",
     "text": [
      "(395, 30)\n"
     ]
    }
   ],
   "source": [
    "pd.set_option('display.max_rows', 50) # показывать больше строк\n",
    "pd.set_option('display.max_columns', 50) # показывать больше колонок\n",
    "\n",
    "grade = pd.read_csv('stud_math.csv')\n",
    "\n",
    "grade.rename(columns={'studytime, granular':'granular'}, inplace=True) #переименовал столбец\n",
    "grade.columns = map(str.lower, grade.columns) #преобразовал названия столбцов, уменьшил регистр\n",
    "\n",
    "print(grade.shape)"
   ]
  },
  {
   "cell_type": "code",
   "execution_count": 56,
   "metadata": {},
   "outputs": [
    {
     "data": {
      "text/html": [
       "<div>\n",
       "<style scoped>\n",
       "    .dataframe tbody tr th:only-of-type {\n",
       "        vertical-align: middle;\n",
       "    }\n",
       "\n",
       "    .dataframe tbody tr th {\n",
       "        vertical-align: top;\n",
       "    }\n",
       "\n",
       "    .dataframe thead th {\n",
       "        text-align: right;\n",
       "    }\n",
       "</style>\n",
       "<table border=\"1\" class=\"dataframe\">\n",
       "  <thead>\n",
       "    <tr style=\"text-align: right;\">\n",
       "      <th></th>\n",
       "      <th>school</th>\n",
       "      <th>sex</th>\n",
       "      <th>age</th>\n",
       "      <th>address</th>\n",
       "      <th>famsize</th>\n",
       "      <th>pstatus</th>\n",
       "      <th>medu</th>\n",
       "      <th>fedu</th>\n",
       "      <th>mjob</th>\n",
       "      <th>fjob</th>\n",
       "      <th>reason</th>\n",
       "      <th>guardian</th>\n",
       "      <th>traveltime</th>\n",
       "      <th>studytime</th>\n",
       "      <th>failures</th>\n",
       "      <th>schoolsup</th>\n",
       "      <th>famsup</th>\n",
       "      <th>paid</th>\n",
       "      <th>activities</th>\n",
       "      <th>nursery</th>\n",
       "      <th>granular</th>\n",
       "      <th>higher</th>\n",
       "      <th>internet</th>\n",
       "      <th>romantic</th>\n",
       "      <th>famrel</th>\n",
       "      <th>freetime</th>\n",
       "      <th>goout</th>\n",
       "      <th>health</th>\n",
       "      <th>absences</th>\n",
       "      <th>score</th>\n",
       "    </tr>\n",
       "  </thead>\n",
       "  <tbody>\n",
       "    <tr>\n",
       "      <th>0</th>\n",
       "      <td>GP</td>\n",
       "      <td>F</td>\n",
       "      <td>18</td>\n",
       "      <td>U</td>\n",
       "      <td>NaN</td>\n",
       "      <td>A</td>\n",
       "      <td>4.0</td>\n",
       "      <td>4.0</td>\n",
       "      <td>at_home</td>\n",
       "      <td>teacher</td>\n",
       "      <td>course</td>\n",
       "      <td>mother</td>\n",
       "      <td>2.0</td>\n",
       "      <td>2.0</td>\n",
       "      <td>0.0</td>\n",
       "      <td>yes</td>\n",
       "      <td>no</td>\n",
       "      <td>no</td>\n",
       "      <td>no</td>\n",
       "      <td>yes</td>\n",
       "      <td>-6.0</td>\n",
       "      <td>yes</td>\n",
       "      <td>NaN</td>\n",
       "      <td>no</td>\n",
       "      <td>4.0</td>\n",
       "      <td>3.0</td>\n",
       "      <td>4.0</td>\n",
       "      <td>3.0</td>\n",
       "      <td>6.0</td>\n",
       "      <td>30.0</td>\n",
       "    </tr>\n",
       "    <tr>\n",
       "      <th>1</th>\n",
       "      <td>GP</td>\n",
       "      <td>F</td>\n",
       "      <td>17</td>\n",
       "      <td>U</td>\n",
       "      <td>GT3</td>\n",
       "      <td>NaN</td>\n",
       "      <td>1.0</td>\n",
       "      <td>1.0</td>\n",
       "      <td>at_home</td>\n",
       "      <td>other</td>\n",
       "      <td>course</td>\n",
       "      <td>father</td>\n",
       "      <td>1.0</td>\n",
       "      <td>2.0</td>\n",
       "      <td>0.0</td>\n",
       "      <td>no</td>\n",
       "      <td>yes</td>\n",
       "      <td>no</td>\n",
       "      <td>no</td>\n",
       "      <td>no</td>\n",
       "      <td>-6.0</td>\n",
       "      <td>yes</td>\n",
       "      <td>yes</td>\n",
       "      <td>no</td>\n",
       "      <td>5.0</td>\n",
       "      <td>3.0</td>\n",
       "      <td>3.0</td>\n",
       "      <td>3.0</td>\n",
       "      <td>4.0</td>\n",
       "      <td>30.0</td>\n",
       "    </tr>\n",
       "    <tr>\n",
       "      <th>2</th>\n",
       "      <td>GP</td>\n",
       "      <td>F</td>\n",
       "      <td>15</td>\n",
       "      <td>U</td>\n",
       "      <td>LE3</td>\n",
       "      <td>T</td>\n",
       "      <td>1.0</td>\n",
       "      <td>1.0</td>\n",
       "      <td>at_home</td>\n",
       "      <td>other</td>\n",
       "      <td>other</td>\n",
       "      <td>mother</td>\n",
       "      <td>1.0</td>\n",
       "      <td>2.0</td>\n",
       "      <td>3.0</td>\n",
       "      <td>yes</td>\n",
       "      <td>no</td>\n",
       "      <td>NaN</td>\n",
       "      <td>no</td>\n",
       "      <td>yes</td>\n",
       "      <td>-6.0</td>\n",
       "      <td>yes</td>\n",
       "      <td>yes</td>\n",
       "      <td>NaN</td>\n",
       "      <td>4.0</td>\n",
       "      <td>3.0</td>\n",
       "      <td>2.0</td>\n",
       "      <td>3.0</td>\n",
       "      <td>10.0</td>\n",
       "      <td>50.0</td>\n",
       "    </tr>\n",
       "    <tr>\n",
       "      <th>3</th>\n",
       "      <td>GP</td>\n",
       "      <td>F</td>\n",
       "      <td>15</td>\n",
       "      <td>U</td>\n",
       "      <td>GT3</td>\n",
       "      <td>T</td>\n",
       "      <td>4.0</td>\n",
       "      <td>2.0</td>\n",
       "      <td>health</td>\n",
       "      <td>NaN</td>\n",
       "      <td>home</td>\n",
       "      <td>mother</td>\n",
       "      <td>1.0</td>\n",
       "      <td>3.0</td>\n",
       "      <td>0.0</td>\n",
       "      <td>no</td>\n",
       "      <td>yes</td>\n",
       "      <td>yes</td>\n",
       "      <td>yes</td>\n",
       "      <td>yes</td>\n",
       "      <td>-9.0</td>\n",
       "      <td>yes</td>\n",
       "      <td>yes</td>\n",
       "      <td>yes</td>\n",
       "      <td>3.0</td>\n",
       "      <td>2.0</td>\n",
       "      <td>2.0</td>\n",
       "      <td>5.0</td>\n",
       "      <td>2.0</td>\n",
       "      <td>75.0</td>\n",
       "    </tr>\n",
       "    <tr>\n",
       "      <th>4</th>\n",
       "      <td>GP</td>\n",
       "      <td>F</td>\n",
       "      <td>16</td>\n",
       "      <td>U</td>\n",
       "      <td>GT3</td>\n",
       "      <td>T</td>\n",
       "      <td>3.0</td>\n",
       "      <td>3.0</td>\n",
       "      <td>other</td>\n",
       "      <td>other</td>\n",
       "      <td>home</td>\n",
       "      <td>father</td>\n",
       "      <td>1.0</td>\n",
       "      <td>2.0</td>\n",
       "      <td>0.0</td>\n",
       "      <td>no</td>\n",
       "      <td>yes</td>\n",
       "      <td>yes</td>\n",
       "      <td>no</td>\n",
       "      <td>yes</td>\n",
       "      <td>-6.0</td>\n",
       "      <td>yes</td>\n",
       "      <td>no</td>\n",
       "      <td>no</td>\n",
       "      <td>4.0</td>\n",
       "      <td>3.0</td>\n",
       "      <td>2.0</td>\n",
       "      <td>5.0</td>\n",
       "      <td>4.0</td>\n",
       "      <td>50.0</td>\n",
       "    </tr>\n",
       "    <tr>\n",
       "      <th>...</th>\n",
       "      <td>...</td>\n",
       "      <td>...</td>\n",
       "      <td>...</td>\n",
       "      <td>...</td>\n",
       "      <td>...</td>\n",
       "      <td>...</td>\n",
       "      <td>...</td>\n",
       "      <td>...</td>\n",
       "      <td>...</td>\n",
       "      <td>...</td>\n",
       "      <td>...</td>\n",
       "      <td>...</td>\n",
       "      <td>...</td>\n",
       "      <td>...</td>\n",
       "      <td>...</td>\n",
       "      <td>...</td>\n",
       "      <td>...</td>\n",
       "      <td>...</td>\n",
       "      <td>...</td>\n",
       "      <td>...</td>\n",
       "      <td>...</td>\n",
       "      <td>...</td>\n",
       "      <td>...</td>\n",
       "      <td>...</td>\n",
       "      <td>...</td>\n",
       "      <td>...</td>\n",
       "      <td>...</td>\n",
       "      <td>...</td>\n",
       "      <td>...</td>\n",
       "      <td>...</td>\n",
       "    </tr>\n",
       "    <tr>\n",
       "      <th>390</th>\n",
       "      <td>MS</td>\n",
       "      <td>M</td>\n",
       "      <td>20</td>\n",
       "      <td>U</td>\n",
       "      <td>LE3</td>\n",
       "      <td>A</td>\n",
       "      <td>2.0</td>\n",
       "      <td>2.0</td>\n",
       "      <td>services</td>\n",
       "      <td>services</td>\n",
       "      <td>course</td>\n",
       "      <td>NaN</td>\n",
       "      <td>1.0</td>\n",
       "      <td>2.0</td>\n",
       "      <td>2.0</td>\n",
       "      <td>no</td>\n",
       "      <td>yes</td>\n",
       "      <td>yes</td>\n",
       "      <td>no</td>\n",
       "      <td>yes</td>\n",
       "      <td>-6.0</td>\n",
       "      <td>yes</td>\n",
       "      <td>no</td>\n",
       "      <td>no</td>\n",
       "      <td>5.0</td>\n",
       "      <td>5.0</td>\n",
       "      <td>4.0</td>\n",
       "      <td>4.0</td>\n",
       "      <td>212.0</td>\n",
       "      <td>45.0</td>\n",
       "    </tr>\n",
       "    <tr>\n",
       "      <th>391</th>\n",
       "      <td>MS</td>\n",
       "      <td>M</td>\n",
       "      <td>17</td>\n",
       "      <td>U</td>\n",
       "      <td>LE3</td>\n",
       "      <td>T</td>\n",
       "      <td>3.0</td>\n",
       "      <td>1.0</td>\n",
       "      <td>services</td>\n",
       "      <td>services</td>\n",
       "      <td>course</td>\n",
       "      <td>mother</td>\n",
       "      <td>2.0</td>\n",
       "      <td>1.0</td>\n",
       "      <td>0.0</td>\n",
       "      <td>no</td>\n",
       "      <td>no</td>\n",
       "      <td>no</td>\n",
       "      <td>no</td>\n",
       "      <td>no</td>\n",
       "      <td>-3.0</td>\n",
       "      <td>yes</td>\n",
       "      <td>yes</td>\n",
       "      <td>no</td>\n",
       "      <td>2.0</td>\n",
       "      <td>4.0</td>\n",
       "      <td>5.0</td>\n",
       "      <td>2.0</td>\n",
       "      <td>3.0</td>\n",
       "      <td>80.0</td>\n",
       "    </tr>\n",
       "    <tr>\n",
       "      <th>392</th>\n",
       "      <td>MS</td>\n",
       "      <td>M</td>\n",
       "      <td>21</td>\n",
       "      <td>R</td>\n",
       "      <td>GT3</td>\n",
       "      <td>T</td>\n",
       "      <td>1.0</td>\n",
       "      <td>1.0</td>\n",
       "      <td>other</td>\n",
       "      <td>other</td>\n",
       "      <td>course</td>\n",
       "      <td>NaN</td>\n",
       "      <td>1.0</td>\n",
       "      <td>1.0</td>\n",
       "      <td>3.0</td>\n",
       "      <td>NaN</td>\n",
       "      <td>no</td>\n",
       "      <td>no</td>\n",
       "      <td>no</td>\n",
       "      <td>no</td>\n",
       "      <td>-3.0</td>\n",
       "      <td>NaN</td>\n",
       "      <td>no</td>\n",
       "      <td>no</td>\n",
       "      <td>5.0</td>\n",
       "      <td>5.0</td>\n",
       "      <td>3.0</td>\n",
       "      <td>3.0</td>\n",
       "      <td>3.0</td>\n",
       "      <td>35.0</td>\n",
       "    </tr>\n",
       "    <tr>\n",
       "      <th>393</th>\n",
       "      <td>MS</td>\n",
       "      <td>M</td>\n",
       "      <td>18</td>\n",
       "      <td>R</td>\n",
       "      <td>LE3</td>\n",
       "      <td>T</td>\n",
       "      <td>3.0</td>\n",
       "      <td>2.0</td>\n",
       "      <td>services</td>\n",
       "      <td>other</td>\n",
       "      <td>course</td>\n",
       "      <td>mother</td>\n",
       "      <td>3.0</td>\n",
       "      <td>1.0</td>\n",
       "      <td>0.0</td>\n",
       "      <td>no</td>\n",
       "      <td>no</td>\n",
       "      <td>no</td>\n",
       "      <td>NaN</td>\n",
       "      <td>no</td>\n",
       "      <td>-3.0</td>\n",
       "      <td>yes</td>\n",
       "      <td>yes</td>\n",
       "      <td>no</td>\n",
       "      <td>4.0</td>\n",
       "      <td>4.0</td>\n",
       "      <td>1.0</td>\n",
       "      <td>5.0</td>\n",
       "      <td>0.0</td>\n",
       "      <td>50.0</td>\n",
       "    </tr>\n",
       "    <tr>\n",
       "      <th>394</th>\n",
       "      <td>MS</td>\n",
       "      <td>M</td>\n",
       "      <td>19</td>\n",
       "      <td>U</td>\n",
       "      <td>LE3</td>\n",
       "      <td>T</td>\n",
       "      <td>1.0</td>\n",
       "      <td>1.0</td>\n",
       "      <td>other</td>\n",
       "      <td>at_home</td>\n",
       "      <td>NaN</td>\n",
       "      <td>father</td>\n",
       "      <td>1.0</td>\n",
       "      <td>1.0</td>\n",
       "      <td>0.0</td>\n",
       "      <td>NaN</td>\n",
       "      <td>no</td>\n",
       "      <td>no</td>\n",
       "      <td>no</td>\n",
       "      <td>yes</td>\n",
       "      <td>-3.0</td>\n",
       "      <td>yes</td>\n",
       "      <td>yes</td>\n",
       "      <td>no</td>\n",
       "      <td>3.0</td>\n",
       "      <td>2.0</td>\n",
       "      <td>3.0</td>\n",
       "      <td>5.0</td>\n",
       "      <td>5.0</td>\n",
       "      <td>45.0</td>\n",
       "    </tr>\n",
       "  </tbody>\n",
       "</table>\n",
       "<p>395 rows × 30 columns</p>\n",
       "</div>"
      ],
      "text/plain": [
       "    school sex  age address famsize pstatus  medu  fedu      mjob      fjob  \\\n",
       "0       GP   F   18       U     NaN       A   4.0   4.0   at_home   teacher   \n",
       "1       GP   F   17       U     GT3     NaN   1.0   1.0   at_home     other   \n",
       "2       GP   F   15       U     LE3       T   1.0   1.0   at_home     other   \n",
       "3       GP   F   15       U     GT3       T   4.0   2.0    health       NaN   \n",
       "4       GP   F   16       U     GT3       T   3.0   3.0     other     other   \n",
       "..     ...  ..  ...     ...     ...     ...   ...   ...       ...       ...   \n",
       "390     MS   M   20       U     LE3       A   2.0   2.0  services  services   \n",
       "391     MS   M   17       U     LE3       T   3.0   1.0  services  services   \n",
       "392     MS   M   21       R     GT3       T   1.0   1.0     other     other   \n",
       "393     MS   M   18       R     LE3       T   3.0   2.0  services     other   \n",
       "394     MS   M   19       U     LE3       T   1.0   1.0     other   at_home   \n",
       "\n",
       "     reason guardian  traveltime  studytime  failures schoolsup famsup paid  \\\n",
       "0    course   mother         2.0        2.0       0.0       yes     no   no   \n",
       "1    course   father         1.0        2.0       0.0        no    yes   no   \n",
       "2     other   mother         1.0        2.0       3.0       yes     no  NaN   \n",
       "3      home   mother         1.0        3.0       0.0        no    yes  yes   \n",
       "4      home   father         1.0        2.0       0.0        no    yes  yes   \n",
       "..      ...      ...         ...        ...       ...       ...    ...  ...   \n",
       "390  course      NaN         1.0        2.0       2.0        no    yes  yes   \n",
       "391  course   mother         2.0        1.0       0.0        no     no   no   \n",
       "392  course      NaN         1.0        1.0       3.0       NaN     no   no   \n",
       "393  course   mother         3.0        1.0       0.0        no     no   no   \n",
       "394     NaN   father         1.0        1.0       0.0       NaN     no   no   \n",
       "\n",
       "    activities nursery  granular higher internet romantic  famrel  freetime  \\\n",
       "0           no     yes      -6.0    yes      NaN       no     4.0       3.0   \n",
       "1           no      no      -6.0    yes      yes       no     5.0       3.0   \n",
       "2           no     yes      -6.0    yes      yes      NaN     4.0       3.0   \n",
       "3          yes     yes      -9.0    yes      yes      yes     3.0       2.0   \n",
       "4           no     yes      -6.0    yes       no       no     4.0       3.0   \n",
       "..         ...     ...       ...    ...      ...      ...     ...       ...   \n",
       "390         no     yes      -6.0    yes       no       no     5.0       5.0   \n",
       "391         no      no      -3.0    yes      yes       no     2.0       4.0   \n",
       "392         no      no      -3.0    NaN       no       no     5.0       5.0   \n",
       "393        NaN      no      -3.0    yes      yes       no     4.0       4.0   \n",
       "394         no     yes      -3.0    yes      yes       no     3.0       2.0   \n",
       "\n",
       "     goout  health  absences  score  \n",
       "0      4.0     3.0       6.0   30.0  \n",
       "1      3.0     3.0       4.0   30.0  \n",
       "2      2.0     3.0      10.0   50.0  \n",
       "3      2.0     5.0       2.0   75.0  \n",
       "4      2.0     5.0       4.0   50.0  \n",
       "..     ...     ...       ...    ...  \n",
       "390    4.0     4.0     212.0   45.0  \n",
       "391    5.0     2.0       3.0   80.0  \n",
       "392    3.0     3.0       3.0   35.0  \n",
       "393    1.0     5.0       0.0   50.0  \n",
       "394    3.0     5.0       5.0   45.0  \n",
       "\n",
       "[395 rows x 30 columns]"
      ]
     },
     "execution_count": 56,
     "metadata": {},
     "output_type": "execute_result"
    }
   ],
   "source": [
    "grade"
   ]
  },
  {
   "cell_type": "markdown",
   "metadata": {},
   "source": [
    "Описание датасета\n",
    "\n",
    "1 school — аббревиатура школы, в которой учится ученик;\n",
    "\n",
    "2 sex — пол ученика ('F' - женский, 'M' - мужской);\n",
    "\n",
    "3 age — возраст ученика (от 15 до 22);\n",
    "\n",
    "4 address — тип адреса ученика ('U' - городской, 'R' - за городом);\n",
    "\n",
    "5 famsize — размер семьи('LE3' <= 3, 'GT3' >3);\n",
    "\n",
    "6 Pstatus — статус совместного жилья родителей ('T' - живут вместе 'A' - раздельно);\n",
    "\n",
    "7 Medu — образование матери (0 - нет, 1 - 4 класса, 2 - 5-9 классы, 3 - среднее специальное или 11 классов, 4 - высшее);\n",
    "\n",
    "8 Fedu — образование отца (0 - нет, 1 - 4 класса, 2 - 5-9 классы, 3 - среднее специальное или 11 классов, 4 - высшее);\n",
    "\n",
    "9 Mjob — работа матери ('teacher' - учитель, 'health' - сфера здравоохранения, 'services' - гос служба, 'at_home' - не работает, 'other' - другое);\n",
    "\n",
    "10 Fjob — работа отца ('teacher' - учитель, 'health' - сфера здравоохранения, 'services' - гос служба, 'at_home' - не работает, 'other' - другое);\n",
    "\n",
    "11 reason — причина выбора школы ('home' - близость к дому, 'reputation' - репутация школы, 'course' - образовательная программа, 'other' - другое);\n",
    "\n",
    "12 guardian — опекун ('mother' - мать, 'father' - отец, 'other' - другое);\n",
    "\n",
    "13 traveltime — время в пути до школы (1 - <15 мин., 2 - 15-30 мин., 3 - 30-60 мин., 4 - >60 мин.);\n",
    "\n",
    "14 studytime — время на учёбу помимо школы в неделю (1 - <2 часов, 2 - 2-5 часов, 3 - 5-10 часов, 4 - >10 часов);\n",
    "\n",
    "15 failures — количество внеучебных неудач (n, если 1<=n<=3, иначе 0);\n",
    "\n",
    "16 schoolsup — дополнительная образовательная поддержка (yes или no);\n",
    "\n",
    "17 famsup — семейная образовательная поддержка (yes или no);\n",
    "\n",
    "18 paid — дополнительные платные занятия по математике (yes или no);\n",
    "\n",
    "19 activities — дополнительные внеучебные занятия (yes или no);\n",
    "\n",
    "20 nursery — посещал детский сад (yes или no);\n",
    "\n",
    "21 higher — хочет получить высшее образование (yes или no);\n",
    "\n",
    "22 internet — наличие интернета дома (yes или no);\n",
    "\n",
    "23 romantic — в романтических отношениях (yes или no);\n",
    "\n",
    "24 famrel — семейные отношения (от 1 - очень плохо до 5 - очень хорошо);\n",
    "\n",
    "25 freetime — свободное время после школы (от 1 - очень мало до 5 - очень мого);\n",
    "\n",
    "26 goout — проведение времени с друзьями (от 1 - очень мало до 5 - очень много);\n",
    "\n",
    "27 health — текущее состояние здоровья (от 1 - очень плохо до 5 - очень хорошо);\n",
    "\n",
    "28 absences — количество пропущенных занятий;\n",
    "\n",
    "29 score — баллы по госэкзамену по математике;"
   ]
  },
  {
   "cell_type": "markdown",
   "metadata": {},
   "source": [
    "Судя по информации этот DataFrame имеет 30 стобцов и 395 строк. Для объективного анализа нужны данные, а 395 строк это не так много. \n",
    "Например в столбцах: \"famsize\",\"pstatus\",\"fjob\",\"traveltime\",\"paid\", \"internet\", \"romantic\", пропуски составляют около 10% информации. Чтобы не потерять достаточно весомый процент данных, пропущенные значения следует не удалять, а заполнять.\n",
    "    \n",
    "Заполнение данных будет осуществляться следующим образом:\n",
    "- пропущенные числовые характеристики, после устранения выбросов, будут заполняться медианой;\n",
    "- пропущенные ранговые характеристики, в большинстве своем, будут заполняться модой. Исключением послужат столбцы, которые имеют взаимосвязанные признаки;\n",
    "\n",
    "Оценив название столбцов и те параметры которые они в себе несут, можно сделать вывод, что лишних (не информативных) столбцов в данном DataFrame нет. На успеваемость ученика могут повлиять все эти на первый взгляд безобиные обстоятельста. Исключением служит столбец \"studytime, granular\", назначение котрого позже будет понятно."
   ]
  },
  {
   "cell_type": "code",
   "execution_count": 7,
   "metadata": {},
   "outputs": [
    {
     "data": {
      "image/png": "[encoded data removed]",
      "text/plain": [
       "<Figure size 1440x720 with 1 Axes>"
      ]
     },
     "metadata": {
      "needs_background": "light"
     },
     "output_type": "display_data"
    }
   ],
   "source": [
    "emptys = (grade.isnull().sum() / grade.shape[0]).sort_values()\n",
    "\n",
    "plt.figure(figsize=(20, 10))\n",
    "plt.title('Процент пропущенных')\n",
    "plt.barh(emptys.index, emptys.values)\n",
    "plt.show()"
   ]
  },
  {
   "cell_type": "code",
   "execution_count": 8,
   "metadata": {},
   "outputs": [
    {
     "data": {
      "text/plain": [
       "school         0\n",
       "sex            0\n",
       "age            0\n",
       "address       17\n",
       "famsize       27\n",
       "pstatus       45\n",
       "medu           3\n",
       "fedu          24\n",
       "mjob          19\n",
       "fjob          36\n",
       "reason        17\n",
       "guardian      31\n",
       "traveltime    28\n",
       "studytime      7\n",
       "failures      22\n",
       "schoolsup      9\n",
       "famsup        39\n",
       "paid          40\n",
       "activities    14\n",
       "nursery       16\n",
       "granular       7\n",
       "higher        20\n",
       "internet      34\n",
       "romantic      31\n",
       "famrel        27\n",
       "freetime      11\n",
       "goout          8\n",
       "health        15\n",
       "absences      12\n",
       "score          6\n",
       "dtype: int64"
      ]
     },
     "execution_count": 8,
     "metadata": {},
     "output_type": "execute_result"
    }
   ],
   "source": [
    "grade.isnull().sum()"
   ]
  },
  {
   "cell_type": "code",
   "execution_count": 9,
   "metadata": {},
   "outputs": [],
   "source": [
    "def plot_columns(df: pd.DataFrame, columns: list, nrows: int, nclmns: int):\n",
    "    \"\"\"\n",
    "    Функция принимает на вход:\n",
    "        DataFrame\n",
    "        Названия колонок, для которых нужны графики\n",
    "        Количество <<строк>> в графиках\n",
    "        Количество <<колонок>> в графиках\n",
    "    \"\"\"\n",
    "    fig, axes = plt.subplots(figsize=(nrows * 5, nclmns * 10), nrows=nrows, ncols=nclmns)\n",
    "    # создаем объекты fig, axes\n",
    "    cur_row = 0\n",
    "    cur_col = 0\n",
    "    for column in columns:\n",
    "        cur_axes = axes[cur_row, cur_col]              \n",
    "        sns.boxplot(x=column, y='score', \n",
    "                data=df.loc[df.loc[:, column].isin(df.loc[:, column].value_counts().index[:10])],\n",
    "               ax=cur_axes)\n",
    "\n",
    "        cur_axes.set_title('Boxplot for ' + column)\n",
    "        \n",
    "        if cur_col < nclmns - 1:\n",
    "            cur_col += 1\n",
    "        else:\n",
    "            cur_col = 0\n",
    "            cur_row += 1\n",
    "            \n",
    "            \n",
    "def estimate_categorical_feature(column: pd.Series):\n",
    "    \"\"\"\n",
    "    Функция принимает на вход объект типа \"series\".\n",
    "       Возвращает:\n",
    "       гистаграмму с распределением величин этого стобца\n",
    "       количество пропущенных значений\n",
    "       для объектов типа \"object\" возвращает моду\n",
    "       для объектов типа \"float\" и \"int\" возвращает медиану.\n",
    "    \"\"\"\n",
    "    print('В данном столбце {} незаполненых значений.'.format(column.isnull().sum()))\n",
    "    plt.title(f'Распределение {column.name}')\n",
    "    if column.dtype == 'O':\n",
    "        print(f'Мода: {column.mode()[0]}')\n",
    "    else:\n",
    "        print(f'Среднее: {round(column.mean(), 0)}')\n",
    "    v_counts = column.value_counts()\n",
    "    plt.bar(v_counts.index, v_counts.values, width = 1)\n",
    "    plt.show()\n",
    "\n",
    "    \n",
    "def get_mode(column: pd.Series):\n",
    "    \"\"\"\n",
    "    Функция примает на вход столбец,\n",
    "       заполняет пустые значения модой \n",
    "       и сохраняет в Data Frame.\n",
    "    \"\"\"\n",
    "    return column.fillna(column.mode()[0], inplace=True)\n",
    "\n",
    "\n",
    "def fill_pstatus_famsize(row, famsize_mode, pstatus_mode):\n",
    "    \"\"\"\n",
    "    Функция принимает на вход 3 аргуманта (столбец и две моды)\n",
    "       и заполняет оба столбца одноверменно логика:\n",
    "       если родители в браке, то вероятнее, что в семье больше 3-х человек.\n",
    "    \"\"\"\n",
    "    if pd.isnull(row['famsize']):\n",
    "        if pd.isnull(row['pstatus']):\n",
    "            row['pstatus'] = pstatus_mode\n",
    "            row['famsize'] = famsize_mode\n",
    "        elif row['pstatus'][0] == 'T':\n",
    "            row['famsize'] = 'GT3'\n",
    "        elif row['pstatus'][0] == 'A':\n",
    "            row['famsize'] = 'LE3'\n",
    "    else:\n",
    "        if pd.isnull(row['pstatus']):\n",
    "            if row['famsize'][0] == 'GT3':\n",
    "                row['pstatus'] = 'T'\n",
    "            else:\n",
    "                row['pstatus'] = 'A'\n",
    "    return row\n",
    "\n",
    "\n",
    "def fill_reason(row):\n",
    "    \"\"\"\n",
    "    Принимает на вход стоку и заполняет пустые значения по логике выбор школы осуществлен:\n",
    "        если родители учителя то по образовательной программе\n",
    "        если родители госслужащие то по репутации\n",
    "        если время до школы состаляло меньше 15 мин то по длизости к дому\n",
    "    \"\"\"\n",
    "    if pd.isnull(row['reason']):\n",
    "        if row['mjob'][0] == 'teacher'  or row['fjob'][0] == 'teacher':\n",
    "            row['reason'] = 'course'\n",
    "        elif row['mjob'][0] == 'service'  or row['fjob'][0] == 'service':\n",
    "            row['reason'] = 'reputation'\n",
    "        elif row['traveltime'] == '1':\n",
    "            row['reason'] = 'home'\n",
    "    return row\n",
    "\n",
    "\n",
    "def fill_schoolsup(row):\n",
    "    \"\"\"\n",
    "    Данная функция принимает на вход строку и заполняет пропущенное значение по логике\n",
    "        если есть семейная образовательная поддержка, если есть дополнитльные заняти по математике,\n",
    "        если есть дополнительные внеучебные занятия, то и есть дополнительная образовательная поддержка\n",
    "    \"\"\"\n",
    "    if pd.isnull(row['schoolsup']):\n",
    "        if row['famsup'] == 'yes' or row['paid'] == 'yes' or row['activities'] == 'yes':\n",
    "            row['schoolsup'] = 'yes'\n",
    "        else:\n",
    "            row['schoolsup'] = 'no'\n",
    "    return row\n",
    "\n",
    "\n",
    "def fill_famsup(row):\n",
    "    \"\"\"\n",
    "    Принимает на вход строку и заполняет пустые значения по логике:\n",
    "        если родители работают преподователями, то семейная образовательная поддержка есть,\n",
    "        если не работают преподователями, то семейной образовательной поддержки нет.\"\"\"\n",
    "    if pd.isnull(row['famsup']):\n",
    "        if row['mjob'] == 'teacher'or row['fjob'] == 'teacher':\n",
    "            row['famsup'] = 'yes'\n",
    "        else:\n",
    "            row['famsup'] = 'no'\n",
    "    return row\n",
    "\n",
    "\n",
    "def fill_paid(row):\n",
    "    \"\"\"\n",
    "    Принимает на вход строку и заполняет пустые значения по логике:\n",
    "        если ученик посещает платные занятия по математике, значит он \n",
    "        хочет получить высшее образование\"\"\"\n",
    "    if pd.isnull(row['paid']):\n",
    "        if row['higher'] == 'yes':\n",
    "            row['paid'] = 'yes'\n",
    "        else:\n",
    "            'no'\n",
    "    return row\n",
    "\n",
    "\n",
    "def fill_activities(row):\n",
    "    \"\"\"\n",
    "    Принимает на вход строку и заполняет пропущенные значения по ллогике:\n",
    "        если \"famsup\" семейная образовательная поддержка есть, \n",
    "        если \"paid\" дополнительные занятия по математике есть, \n",
    "        если \"schoolsup\" если дополнительная образовательная поддержка есть, \n",
    "        тогда пустые значения принимают значение \"yes\".\n",
    "    \"\"\"\n",
    "    if pd.isnull(row['activities']):\n",
    "        if row['paid'] == 'yes' or row['schoolsup'] == 'yes' or row['famsup'] == 'yes':\n",
    "            row['activities'] = 'yes'\n",
    "        else:\n",
    "            'no'\n",
    "    return row"
   ]
  },
  {
   "cell_type": "markdown",
   "metadata": {},
   "source": [
    "## 1. Столбец (school)\n",
    "В данном столбце пропущенных значений нет. Выбросов нет. Основная часть учеников получала образование в школе \"GP\". Данные в столбце имеют котегориальный (ранговый) формат данных."
   ]
  },
  {
   "cell_type": "code",
   "execution_count": 15,
   "metadata": {},
   "outputs": [
    {
     "name": "stdout",
     "output_type": "stream",
     "text": [
      "В данном столбце 0 незаполненых значений.\n",
      "Мода: GP\n"
     ]
    },
    {
     "data": {
      "image/png": "[encoded data removed]",
      "text/plain": [
       "<Figure size 432x288 with 1 Axes>"
      ]
     },
     "metadata": {
      "needs_background": "light"
     },
     "output_type": "display_data"
    }
   ],
   "source": [
    "estimate_categorical_feature(grade['school'])"
   ]
  },
  {
   "cell_type": "markdown",
   "metadata": {},
   "source": [
    "## 2. Столбец (sex)\n",
    "В данном столбце пропущенных значений нет. Выбросов нет. Ученики примерно в равном соотношении распределены по половому признаку. "
   ]
  },
  {
   "cell_type": "code",
   "execution_count": 20,
   "metadata": {},
   "outputs": [
    {
     "name": "stdout",
     "output_type": "stream",
     "text": [
      "В данном столбце 0 незаполненых значений.\n",
      "Мода: F\n"
     ]
    },
    {
     "data": {
      "image/png": "[encoded data removed]",
      "text/plain": [
       "<Figure size 432x288 with 1 Axes>"
      ]
     },
     "metadata": {
      "needs_background": "light"
     },
     "output_type": "display_data"
    }
   ],
   "source": [
    "estimate_categorical_feature(grade['sex'])"
   ]
  },
  {
   "cell_type": "markdown",
   "metadata": {},
   "source": [
    "## 3. Столбец (age)\n",
    "В данном столбце пропущенных значений нет. Выбросов нет.(Предполагаю, что ученики старше 18 лет просто позже пошли в школу, ну ил оставались на второй (третий) год)."
   ]
  },
  {
   "cell_type": "code",
   "execution_count": 21,
   "metadata": {},
   "outputs": [
    {
     "name": "stdout",
     "output_type": "stream",
     "text": [
      "В данном столбце 0 незаполненых значений.\n",
      "Среднее: 17.0\n"
     ]
    },
    {
     "data": {
      "image/png": "[encoded data removed]",
      "text/plain": [
       "<Figure size 432x288 with 1 Axes>"
      ]
     },
     "metadata": {
      "needs_background": "light"
     },
     "output_type": "display_data"
    }
   ],
   "source": [
    "estimate_categorical_feature(grade['age'])"
   ]
  },
  {
   "cell_type": "code",
   "execution_count": 22,
   "metadata": {},
   "outputs": [
    {
     "data": {
      "text/html": [
       "<div>\n",
       "<style scoped>\n",
       "    .dataframe tbody tr th:only-of-type {\n",
       "        vertical-align: middle;\n",
       "    }\n",
       "\n",
       "    .dataframe tbody tr th {\n",
       "        vertical-align: top;\n",
       "    }\n",
       "\n",
       "    .dataframe thead th {\n",
       "        text-align: right;\n",
       "    }\n",
       "</style>\n",
       "<table border=\"1\" class=\"dataframe\">\n",
       "  <thead>\n",
       "    <tr style=\"text-align: right;\">\n",
       "      <th></th>\n",
       "      <th>school</th>\n",
       "      <th>sex</th>\n",
       "      <th>age</th>\n",
       "      <th>address</th>\n",
       "      <th>famsize</th>\n",
       "      <th>pstatus</th>\n",
       "      <th>medu</th>\n",
       "      <th>fedu</th>\n",
       "      <th>mjob</th>\n",
       "      <th>fjob</th>\n",
       "      <th>reason</th>\n",
       "      <th>guardian</th>\n",
       "      <th>traveltime</th>\n",
       "      <th>studytime</th>\n",
       "      <th>failures</th>\n",
       "      <th>schoolsup</th>\n",
       "      <th>famsup</th>\n",
       "      <th>paid</th>\n",
       "      <th>activities</th>\n",
       "      <th>nursery</th>\n",
       "      <th>granular</th>\n",
       "      <th>higher</th>\n",
       "      <th>internet</th>\n",
       "      <th>romantic</th>\n",
       "      <th>famrel</th>\n",
       "      <th>freetime</th>\n",
       "      <th>goout</th>\n",
       "      <th>health</th>\n",
       "      <th>absences</th>\n",
       "      <th>score</th>\n",
       "    </tr>\n",
       "  </thead>\n",
       "  <tbody>\n",
       "    <tr>\n",
       "      <th>247</th>\n",
       "      <td>GP</td>\n",
       "      <td>M</td>\n",
       "      <td>22</td>\n",
       "      <td>U</td>\n",
       "      <td>GT3</td>\n",
       "      <td>T</td>\n",
       "      <td>3.0</td>\n",
       "      <td>1.0</td>\n",
       "      <td>services</td>\n",
       "      <td>services</td>\n",
       "      <td>other</td>\n",
       "      <td>mother</td>\n",
       "      <td>1.0</td>\n",
       "      <td>1.0</td>\n",
       "      <td>3.0</td>\n",
       "      <td>no</td>\n",
       "      <td>no</td>\n",
       "      <td>no</td>\n",
       "      <td>no</td>\n",
       "      <td>no</td>\n",
       "      <td>-3.0</td>\n",
       "      <td>no</td>\n",
       "      <td>yes</td>\n",
       "      <td>yes</td>\n",
       "      <td>5.0</td>\n",
       "      <td>4.0</td>\n",
       "      <td>5.0</td>\n",
       "      <td>1.0</td>\n",
       "      <td>16.0</td>\n",
       "      <td>40.0</td>\n",
       "    </tr>\n",
       "    <tr>\n",
       "      <th>306</th>\n",
       "      <td>GP</td>\n",
       "      <td>M</td>\n",
       "      <td>20</td>\n",
       "      <td>U</td>\n",
       "      <td>GT3</td>\n",
       "      <td>A</td>\n",
       "      <td>3.0</td>\n",
       "      <td>2.0</td>\n",
       "      <td>services</td>\n",
       "      <td>other</td>\n",
       "      <td>course</td>\n",
       "      <td>other</td>\n",
       "      <td>1.0</td>\n",
       "      <td>1.0</td>\n",
       "      <td>0.0</td>\n",
       "      <td>no</td>\n",
       "      <td>no</td>\n",
       "      <td>no</td>\n",
       "      <td>yes</td>\n",
       "      <td>yes</td>\n",
       "      <td>-3.0</td>\n",
       "      <td>yes</td>\n",
       "      <td>no</td>\n",
       "      <td>no</td>\n",
       "      <td>5.0</td>\n",
       "      <td>5.0</td>\n",
       "      <td>3.0</td>\n",
       "      <td>5.0</td>\n",
       "      <td>0.0</td>\n",
       "      <td>90.0</td>\n",
       "    </tr>\n",
       "    <tr>\n",
       "      <th>376</th>\n",
       "      <td>MS</td>\n",
       "      <td>F</td>\n",
       "      <td>20</td>\n",
       "      <td>NaN</td>\n",
       "      <td>GT3</td>\n",
       "      <td>T</td>\n",
       "      <td>4.0</td>\n",
       "      <td>2.0</td>\n",
       "      <td>health</td>\n",
       "      <td>other</td>\n",
       "      <td>course</td>\n",
       "      <td>NaN</td>\n",
       "      <td>2.0</td>\n",
       "      <td>3.0</td>\n",
       "      <td>2.0</td>\n",
       "      <td>no</td>\n",
       "      <td>yes</td>\n",
       "      <td>yes</td>\n",
       "      <td>no</td>\n",
       "      <td>no</td>\n",
       "      <td>-9.0</td>\n",
       "      <td>yes</td>\n",
       "      <td>yes</td>\n",
       "      <td>yes</td>\n",
       "      <td>5.0</td>\n",
       "      <td>4.0</td>\n",
       "      <td>3.0</td>\n",
       "      <td>3.0</td>\n",
       "      <td>4.0</td>\n",
       "      <td>75.0</td>\n",
       "    </tr>\n",
       "    <tr>\n",
       "      <th>390</th>\n",
       "      <td>MS</td>\n",
       "      <td>M</td>\n",
       "      <td>20</td>\n",
       "      <td>U</td>\n",
       "      <td>LE3</td>\n",
       "      <td>A</td>\n",
       "      <td>2.0</td>\n",
       "      <td>2.0</td>\n",
       "      <td>services</td>\n",
       "      <td>services</td>\n",
       "      <td>course</td>\n",
       "      <td>NaN</td>\n",
       "      <td>1.0</td>\n",
       "      <td>2.0</td>\n",
       "      <td>2.0</td>\n",
       "      <td>no</td>\n",
       "      <td>yes</td>\n",
       "      <td>yes</td>\n",
       "      <td>no</td>\n",
       "      <td>yes</td>\n",
       "      <td>-6.0</td>\n",
       "      <td>yes</td>\n",
       "      <td>no</td>\n",
       "      <td>no</td>\n",
       "      <td>5.0</td>\n",
       "      <td>5.0</td>\n",
       "      <td>4.0</td>\n",
       "      <td>4.0</td>\n",
       "      <td>212.0</td>\n",
       "      <td>45.0</td>\n",
       "    </tr>\n",
       "    <tr>\n",
       "      <th>392</th>\n",
       "      <td>MS</td>\n",
       "      <td>M</td>\n",
       "      <td>21</td>\n",
       "      <td>R</td>\n",
       "      <td>GT3</td>\n",
       "      <td>T</td>\n",
       "      <td>1.0</td>\n",
       "      <td>1.0</td>\n",
       "      <td>other</td>\n",
       "      <td>other</td>\n",
       "      <td>course</td>\n",
       "      <td>NaN</td>\n",
       "      <td>1.0</td>\n",
       "      <td>1.0</td>\n",
       "      <td>3.0</td>\n",
       "      <td>NaN</td>\n",
       "      <td>no</td>\n",
       "      <td>no</td>\n",
       "      <td>no</td>\n",
       "      <td>no</td>\n",
       "      <td>-3.0</td>\n",
       "      <td>NaN</td>\n",
       "      <td>no</td>\n",
       "      <td>no</td>\n",
       "      <td>5.0</td>\n",
       "      <td>5.0</td>\n",
       "      <td>3.0</td>\n",
       "      <td>3.0</td>\n",
       "      <td>3.0</td>\n",
       "      <td>35.0</td>\n",
       "    </tr>\n",
       "  </tbody>\n",
       "</table>\n",
       "</div>"
      ],
      "text/plain": [
       "    school sex  age address famsize pstatus  medu  fedu      mjob      fjob  \\\n",
       "247     GP   M   22       U     GT3       T   3.0   1.0  services  services   \n",
       "306     GP   M   20       U     GT3       A   3.0   2.0  services     other   \n",
       "376     MS   F   20     NaN     GT3       T   4.0   2.0    health     other   \n",
       "390     MS   M   20       U     LE3       A   2.0   2.0  services  services   \n",
       "392     MS   M   21       R     GT3       T   1.0   1.0     other     other   \n",
       "\n",
       "     reason guardian  traveltime  studytime  failures schoolsup famsup paid  \\\n",
       "247   other   mother         1.0        1.0       3.0        no     no   no   \n",
       "306  course    other         1.0        1.0       0.0        no     no   no   \n",
       "376  course      NaN         2.0        3.0       2.0        no    yes  yes   \n",
       "390  course      NaN         1.0        2.0       2.0        no    yes  yes   \n",
       "392  course      NaN         1.0        1.0       3.0       NaN     no   no   \n",
       "\n",
       "    activities nursery  granular higher internet romantic  famrel  freetime  \\\n",
       "247         no      no      -3.0     no      yes      yes     5.0       4.0   \n",
       "306        yes     yes      -3.0    yes       no       no     5.0       5.0   \n",
       "376         no      no      -9.0    yes      yes      yes     5.0       4.0   \n",
       "390         no     yes      -6.0    yes       no       no     5.0       5.0   \n",
       "392         no      no      -3.0    NaN       no       no     5.0       5.0   \n",
       "\n",
       "     goout  health  absences  score  \n",
       "247    5.0     1.0      16.0   40.0  \n",
       "306    3.0     5.0       0.0   90.0  \n",
       "376    3.0     3.0       4.0   75.0  \n",
       "390    4.0     4.0     212.0   45.0  \n",
       "392    3.0     3.0       3.0   35.0  "
      ]
     },
     "execution_count": 22,
     "metadata": {},
     "output_type": "execute_result"
    },
    {
     "data": {
      "image/png": "[encoded data removed]",
      "text/plain": [
       "<Figure size 432x288 with 1 Axes>"
      ]
     },
     "metadata": {
      "needs_background": "light"
     },
     "output_type": "display_data"
    }
   ],
   "source": [
    "sns.boxplot(x='age', y='sex', data=grade)\n",
    "grade[grade.age >19]"
   ]
  },
  {
   "cell_type": "markdown",
   "metadata": {},
   "source": [
    "## 4. Столбец (address)\n",
    "В данном столбце есть 17 пропущенных значений. Ввиду того, что подавляющее большинство  проживает в городе - заполню пустые значения модой.( Выбросов нет)"
   ]
  },
  {
   "cell_type": "code",
   "execution_count": 23,
   "metadata": {},
   "outputs": [
    {
     "name": "stdout",
     "output_type": "stream",
     "text": [
      "В данном столбце 17 незаполненых значений.\n",
      "Мода: U\n"
     ]
    },
    {
     "data": {
      "image/png": "[encoded data removed]",
      "text/plain": [
       "<Figure size 432x288 with 1 Axes>"
      ]
     },
     "metadata": {
      "needs_background": "light"
     },
     "output_type": "display_data"
    }
   ],
   "source": [
    "estimate_categorical_feature(grade['address'])"
   ]
  },
  {
   "cell_type": "code",
   "execution_count": 10,
   "metadata": {},
   "outputs": [],
   "source": [
    "get_mode(grade['address'])"
   ]
  },
  {
   "cell_type": "markdown",
   "metadata": {},
   "source": [
    "## 5. Столбец (famsize)\n",
    "Данный столбец имеет 17 незаполненых значений. Т.К. данные столбца указывают на количество членов семей, а следующий столбец \"pstatus\" обозначает статус семейной жизни родителей, то можно сделать предположение: \"Если родители в браке,  то вероятност того, что семья имеет больше трех человек (GT3) выше\". Заполнение пустых значений этого столбца проведено по этому принципу."
   ]
  },
  {
   "cell_type": "code",
   "execution_count": 25,
   "metadata": {},
   "outputs": [
    {
     "name": "stdout",
     "output_type": "stream",
     "text": [
      "В данном столбце 27 незаполненых значений.\n",
      "Мода: GT3\n"
     ]
    },
    {
     "data": {
      "image/png": "[encoded data removed]",
      "text/plain": [
       "<Figure size 432x288 with 1 Axes>"
      ]
     },
     "metadata": {
      "needs_background": "light"
     },
     "output_type": "display_data"
    }
   ],
   "source": [
    "estimate_categorical_feature(grade['famsize'])"
   ]
  },
  {
   "cell_type": "code",
   "execution_count": 11,
   "metadata": {},
   "outputs": [],
   "source": [
    "get_mode(grade['famsize'])"
   ]
  },
  {
   "cell_type": "markdown",
   "metadata": {},
   "source": [
    "Функция принимает на вход 3 аргуманта (столбец и две моды).\n",
    "Заполняет оба столбца одноверменно логика:\n",
    "       если родители в браке, то вероятнее, что в семье больше 3-х человек."
   ]
  },
  {
   "cell_type": "code",
   "execution_count": 12,
   "metadata": {},
   "outputs": [
    {
     "name": "stdout",
     "output_type": "stream",
     "text": [
      "Было\n",
      "famsize  pstatus\n",
      "GT3      T          233\n",
      "LE3      T           81\n",
      "GT3      A           23\n",
      "LE3      A           13\n",
      "dtype: int64\n",
      "Стало\n",
      "famsize  pstatus\n",
      "GT3      T          233\n",
      "LE3      T           81\n",
      "GT3      A           55\n",
      "LE3      A           26\n",
      "dtype: int64\n"
     ]
    }
   ],
   "source": [
    "pstat_mode, famsize_mode = grade['pstatus'].mode()[0], grade['famsize'].mode()[0]\n",
    "print('Было')\n",
    "print(grade[['famsize', 'pstatus']].value_counts())\n",
    "\n",
    "grade = grade.apply(\n",
    "    fill_pstatus_famsize, # сама функция, которую будем использовать\n",
    "    args=(famsize_mode, pstat_mode), # дополнительные аргументы, заранее посчитанные\n",
    "    axis=1, # будем обрабатывать не столбцы целиком, а строки\n",
    ")\n",
    "\n",
    "print('Стало')\n",
    "print(grade[['famsize', 'pstatus']].value_counts())"
   ]
  },
  {
   "cell_type": "markdown",
   "metadata": {},
   "source": [
    "## 6. Столбец (pstatus)\n",
    "В данном столбце до преобразовния было 45 пустых значени, эти значения заполнялись в предидущей итерации с помощью функции \"fill_pstatus_famsize\""
   ]
  },
  {
   "cell_type": "code",
   "execution_count": 28,
   "metadata": {},
   "outputs": [
    {
     "name": "stdout",
     "output_type": "stream",
     "text": [
      "В данном столбце 0 незаполненых значений.\n",
      "Мода: T\n"
     ]
    },
    {
     "data": {
      "image/png": "[encoded data removed]",
      "text/plain": [
       "<Figure size 432x288 with 1 Axes>"
      ]
     },
     "metadata": {
      "needs_background": "light"
     },
     "output_type": "display_data"
    }
   ],
   "source": [
    "estimate_categorical_feature(grade['pstatus'])"
   ]
  },
  {
   "cell_type": "markdown",
   "metadata": {},
   "source": [
    "## 7. Столбец (medu)\n",
    "Данный столбец имеет 3 незаполненых значения. Выбросов нет. Заполнение пустых занений средним сильно на статистику не повлияет."
   ]
  },
  {
   "cell_type": "code",
   "execution_count": 29,
   "metadata": {},
   "outputs": [
    {
     "name": "stdout",
     "output_type": "stream",
     "text": [
      "В данном столбце 3 незаполненых значений.\n",
      "Среднее: 3.0\n"
     ]
    },
    {
     "data": {
      "image/png": "[encoded data removed]",
      "text/plain": [
       "<Figure size 432x288 with 1 Axes>"
      ]
     },
     "metadata": {
      "needs_background": "light"
     },
     "output_type": "display_data"
    }
   ],
   "source": [
    "estimate_categorical_feature(grade['medu'])"
   ]
  },
  {
   "cell_type": "code",
   "execution_count": 13,
   "metadata": {},
   "outputs": [],
   "source": [
    "get_mode(grade['medu'])"
   ]
  },
  {
   "cell_type": "markdown",
   "metadata": {},
   "source": [
    "## 8. Столбец (fedu)\n",
    "В данном столбце имеется 24 пустых значения, а также 1 выброс. Ввиду того, что выброс \"40.0\", а даные для оценки параметра fedu имели пятибальную шкалу, можно допустить, что при внесении данных был введен лишний ноль. данный выброс будет исправлен путем деления на 10. После исправления выброса стало видно, что данные распределены по нормальному закону, не то, что у женщин. Заполнение пустых значений буду осуществлять медианой."
   ]
  },
  {
   "cell_type": "code",
   "execution_count": 31,
   "metadata": {},
   "outputs": [
    {
     "name": "stdout",
     "output_type": "stream",
     "text": [
      "В данном столбце 24 незаполненых значений.\n",
      "Среднее: 3.0\n"
     ]
    },
    {
     "data": {
      "image/png": "[encoded data removed]",
      "text/plain": [
       "<Figure size 432x288 with 1 Axes>"
      ]
     },
     "metadata": {
      "needs_background": "light"
     },
     "output_type": "display_data"
    }
   ],
   "source": [
    "estimate_categorical_feature(grade['fedu'])"
   ]
  },
  {
   "cell_type": "code",
   "execution_count": 32,
   "metadata": {},
   "outputs": [
    {
     "data": {
      "text/plain": [
       "2.0     106\n",
       "3.0      96\n",
       "4.0      88\n",
       "1.0      78\n",
       "0.0       2\n",
       "40.0      1\n",
       "Name: fedu, dtype: int64"
      ]
     },
     "execution_count": 32,
     "metadata": {},
     "output_type": "execute_result"
    }
   ],
   "source": [
    "grade.fedu.value_counts()"
   ]
  },
  {
   "cell_type": "code",
   "execution_count": 14,
   "metadata": {},
   "outputs": [],
   "source": [
    "grade['fedu'] = grade.fedu.apply(lambda x: x/10 if x > 4 else x)"
   ]
  },
  {
   "cell_type": "code",
   "execution_count": 34,
   "metadata": {},
   "outputs": [
    {
     "name": "stdout",
     "output_type": "stream",
     "text": [
      "В данном столбце 24 незаполненых значений.\n",
      "Среднее: 3.0\n"
     ]
    },
    {
     "data": {
      "image/png": "[encoded data removed]",
      "text/plain": [
       "<Figure size 432x288 with 1 Axes>"
      ]
     },
     "metadata": {
      "needs_background": "light"
     },
     "output_type": "display_data"
    }
   ],
   "source": [
    "estimate_categorical_feature(grade['fedu'])"
   ]
  },
  {
   "cell_type": "code",
   "execution_count": 15,
   "metadata": {},
   "outputs": [],
   "source": [
    "get_mode(grade['fedu'])"
   ]
  },
  {
   "cell_type": "markdown",
   "metadata": {},
   "source": [
    "## 9. Столбец (mjob)\n",
    "Данный столбец имеет 19 пропусков, по смыслу заполнить их значением \"other\", которое кстати еще и является модой данного столбца, будет смаое верное решение."
   ]
  },
  {
   "cell_type": "code",
   "execution_count": 36,
   "metadata": {},
   "outputs": [
    {
     "name": "stdout",
     "output_type": "stream",
     "text": [
      "В данном столбце 19 незаполненых значений.\n",
      "Мода: other\n"
     ]
    },
    {
     "data": {
      "image/png": "[encoded data removed]",
      "text/plain": [
       "<Figure size 432x288 with 1 Axes>"
      ]
     },
     "metadata": {
      "needs_background": "light"
     },
     "output_type": "display_data"
    }
   ],
   "source": [
    "estimate_categorical_feature(grade['mjob'])"
   ]
  },
  {
   "cell_type": "code",
   "execution_count": 16,
   "metadata": {},
   "outputs": [],
   "source": [
    "get_mode(grade['mjob'])"
   ]
  },
  {
   "cell_type": "markdown",
   "metadata": {},
   "source": [
    "## 10. Столбец (fjob)\n",
    "Данный столбец имеет 36 пропусков. Логика заполнения таже, что и в \"mjob\""
   ]
  },
  {
   "cell_type": "code",
   "execution_count": 38,
   "metadata": {},
   "outputs": [
    {
     "name": "stdout",
     "output_type": "stream",
     "text": [
      "В данном столбце 36 незаполненых значений.\n",
      "Мода: other\n"
     ]
    },
    {
     "data": {
      "image/png": "[encoded data removed]",
      "text/plain": [
       "<Figure size 432x288 with 1 Axes>"
      ]
     },
     "metadata": {
      "needs_background": "light"
     },
     "output_type": "display_data"
    }
   ],
   "source": [
    "estimate_categorical_feature(grade['fjob'])"
   ]
  },
  {
   "cell_type": "code",
   "execution_count": 17,
   "metadata": {},
   "outputs": [],
   "source": [
    "get_mode(grade['fjob'])"
   ]
  },
  {
   "cell_type": "markdown",
   "metadata": {},
   "source": [
    "По анализу гистограм 2-х столбцов \"fjob\" и \"mjob\" можно сделать вывод, что эти столбцы имеют взаимосвязь. Проверяем."
   ]
  },
  {
   "cell_type": "code",
   "execution_count": 18,
   "metadata": {},
   "outputs": [
    {
     "data": {
      "image/png": "[encoded data removed]",
      "text/plain": [
       "<Figure size 864x432 with 1 Axes>"
      ]
     },
     "metadata": {
      "needs_background": "light"
     },
     "output_type": "display_data"
    }
   ],
   "source": [
    "mjob_value_counts = grade['mjob'].value_counts()\n",
    "fjob_value_counts = grade['fjob'].value_counts()\n",
    "\n",
    "plt.figure(figsize=(12, 6)) # создаем фигуру, в которой будет график, задаем ее размеры\n",
    "column_width = 0.5 # ширина столбца = 1 / количество цветов, которые будем использовать\n",
    "\n",
    "x_positions_1 = np.arange(len(mjob_value_counts.index)) # координаты X для первого графика\n",
    "x_positions_2 = x_positions_1 + column_width / 2 # сдвигаем для того, чтобы все столбцы сдвинулись правее для второго графика\n",
    "\n",
    "# 1 график\n",
    "plt.bar(\n",
    "    x_positions_1,\n",
    "    height=mjob_value_counts.values,\n",
    "    color='r',\n",
    "    alpha=0.6,\n",
    "    width=column_width / 2,\n",
    "    label='Mother job'\n",
    ")\n",
    "\n",
    "# 2 график\n",
    "plt.bar(\n",
    "    x_positions_2,\n",
    "    height=fjob_value_counts.values,\n",
    "    color='b',\n",
    "    alpha=0.6,\n",
    "    width=column_width / 2,\n",
    "    label='Father job'\n",
    ")\n",
    "\n",
    "# подпишем значения на X оси:\n",
    "plt.xticks(\n",
    "    x_positions_1, # будем подписывать там, где красные столбцы\n",
    "    mjob_value_counts.index\n",
    ")\n",
    "\n",
    "plt.title(\"Распределение признаков Mjob и Fjob\")\n",
    "plt.xlabel(\"Значение признака\")\n",
    "plt.ylabel(\"Количество объектов\")\n",
    "# создадим легенду\n",
    "plt.legend()\n",
    "plt.show()"
   ]
  },
  {
   "cell_type": "markdown",
   "metadata": {},
   "source": [
    "Данные столбцы имеют одинаковое рапределение признаков, после применения диаграмм размаха ниже стало ясно, что на результа экзамена по математике очень влияет наличие образования \"teacher\" у любого из родителей. В итоговой модели можно будет создать новый бинарный признак с логикой: если кто-то из родителей работает по специальности \"teacher\", то в целом в семье есть забота об успеваемости ребенка."
   ]
  },
  {
   "cell_type": "markdown",
   "metadata": {},
   "source": [
    "## 11. Столбец (reason)\n",
    "Данный столбец имеет 17 пропусков. Заполнение этого столбца осущетвлялось по логике: выбор школы осуществлен:\n",
    "    если родители учителя то по образовательной программе\n",
    "    если родители госслужащие то по репутации\n",
    "    если время до школы состаляло меньше 15 мин то по длизости к дому."
   ]
  },
  {
   "cell_type": "code",
   "execution_count": 41,
   "metadata": {},
   "outputs": [
    {
     "name": "stdout",
     "output_type": "stream",
     "text": [
      "В данном столбце 17 незаполненых значений.\n",
      "Мода: course\n"
     ]
    },
    {
     "data": {
      "image/png": "[encoded data removed]",
      "text/plain": [
       "<Figure size 432x288 with 1 Axes>"
      ]
     },
     "metadata": {
      "needs_background": "light"
     },
     "output_type": "display_data"
    }
   ],
   "source": [
    "estimate_categorical_feature(grade['reason'])"
   ]
  },
  {
   "cell_type": "code",
   "execution_count": 19,
   "metadata": {},
   "outputs": [
    {
     "name": "stdout",
     "output_type": "stream",
     "text": [
      "Было\n",
      "course        137\n",
      "home          104\n",
      "reputation    103\n",
      "other          34\n",
      "Name: reason, dtype: int64\n",
      "Стало\n",
      "course        137\n",
      "home          104\n",
      "reputation    103\n",
      "other          34\n",
      "Name: reason, dtype: int64\n",
      "В данном столбце 17 незаполненых значений.\n"
     ]
    }
   ],
   "source": [
    "print('Было')\n",
    "print(grade['reason'].value_counts())\n",
    "\n",
    "grade = grade.apply(\n",
    "    fill_reason, \n",
    "    axis=1, \n",
    ")\n",
    "\n",
    "print('Стало')\n",
    "print(grade['reason'].value_counts())\n",
    "print('В данном столбце {} незаполненых значений.'.format(grade.reason.isnull().sum()))"
   ]
  },
  {
   "cell_type": "markdown",
   "metadata": {},
   "source": [
    "После применения функции пустые значения не заполнены, ввиду того, что ни одна из логик не сработала.\n",
    "Это означает, что теперь я могу заполнить пустые значения значением \"other\"."
   ]
  },
  {
   "cell_type": "code",
   "execution_count": 20,
   "metadata": {},
   "outputs": [],
   "source": [
    "grade.reason.fillna('other', inplace = True)"
   ]
  },
  {
   "cell_type": "markdown",
   "metadata": {},
   "source": [
    "## 12. Столбец (guardian) - опекун\n",
    "Данный столбец достаточно сложно интерпритировать. В данном столбце пустые значения заполню значением \"NoData\""
   ]
  },
  {
   "cell_type": "code",
   "execution_count": 44,
   "metadata": {},
   "outputs": [
    {
     "name": "stdout",
     "output_type": "stream",
     "text": [
      "В данном столбце 31 незаполненых значений.\n",
      "Мода: mother\n"
     ]
    },
    {
     "data": {
      "image/png": "[encoded data removed]",
      "text/plain": [
       "<Figure size 432x288 with 1 Axes>"
      ]
     },
     "metadata": {
      "needs_background": "light"
     },
     "output_type": "display_data"
    }
   ],
   "source": [
    "estimate_categorical_feature(grade['guardian'])"
   ]
  },
  {
   "cell_type": "code",
   "execution_count": 21,
   "metadata": {},
   "outputs": [],
   "source": [
    "grade.guardian.fillna('NoData', inplace = True)"
   ]
  },
  {
   "cell_type": "markdown",
   "metadata": {},
   "source": [
    "## 13. Столбец (traveltime) - время в пути до школы\n",
    "В данном столбце 28 незаполненых значений. Можно предположить:\n",
    "1. В одну из школ в целом дольше добираться;\n",
    "2. Ученики проживающие в деревне тратят больше времени на дорогу.\n",
    "\n",
    "После анализа, путем групирровки данных, есть понимание:\n",
    "- школы с абревиатурами \"GP\" \"MS\" ученики добираются и из города и из деревни\n",
    "- школы и в городе и в деревне в равной степенеи удалены от мест жительства учеников\n",
    "\n",
    "За отсутствием характерных признаков пропущенные значения заполню модой."
   ]
  },
  {
   "cell_type": "code",
   "execution_count": 68,
   "metadata": {},
   "outputs": [
    {
     "name": "stdout",
     "output_type": "stream",
     "text": [
      "В данном столбце 28 незаполненых значений.\n",
      "Среднее: 1.0\n"
     ]
    },
    {
     "data": {
      "image/png": "[encoded data removed]",
      "text/plain": [
       "<Figure size 432x288 with 1 Axes>"
      ]
     },
     "metadata": {
      "needs_background": "light"
     },
     "output_type": "display_data"
    },
    {
     "data": {
      "text/plain": [
       "school  address  traveltime\n",
       "GP      U        1.0           200\n",
       "                 2.0            58\n",
       "        R        1.0            29\n",
       "                 2.0            18\n",
       "MS      U        2.0            12\n",
       "GP      U        3.0             9\n",
       "MS      U        1.0             8\n",
       "        R        2.0             8\n",
       "                 3.0             7\n",
       "                 1.0             5\n",
       "GP      R        3.0             5\n",
       "        U        4.0             3\n",
       "        R        4.0             3\n",
       "MS      U        3.0             1\n",
       "        R        4.0             1\n",
       "dtype: int64"
      ]
     },
     "execution_count": 68,
     "metadata": {},
     "output_type": "execute_result"
    }
   ],
   "source": [
    "estimate_categorical_feature(grade['traveltime'])\n",
    "\n",
    "grade[['school','address','traveltime']].value_counts()"
   ]
  },
  {
   "cell_type": "code",
   "execution_count": 22,
   "metadata": {},
   "outputs": [],
   "source": [
    "get_mode(grade['traveltime'])"
   ]
  },
  {
   "cell_type": "markdown",
   "metadata": {},
   "source": [
    "## 14. Столбец (studytime) - время на учёбу помимо школы в неделю\n",
    "В данном столбце есть 7 незаполненых значений, зполнение которых осуществлю медианой."
   ]
  },
  {
   "cell_type": "code",
   "execution_count": 47,
   "metadata": {},
   "outputs": [
    {
     "name": "stdout",
     "output_type": "stream",
     "text": [
      "В данном столбце 7 незаполненых значений.\n",
      "Среднее: 2.0\n"
     ]
    },
    {
     "data": {
      "image/png": "[encoded data removed]",
      "text/plain": [
       "<Figure size 432x288 with 1 Axes>"
      ]
     },
     "metadata": {
      "needs_background": "light"
     },
     "output_type": "display_data"
    }
   ],
   "source": [
    "estimate_categorical_feature(grade['studytime'])"
   ]
  },
  {
   "cell_type": "code",
   "execution_count": 23,
   "metadata": {},
   "outputs": [],
   "source": [
    "get_mode(grade['studytime'])"
   ]
  },
  {
   "cell_type": "markdown",
   "metadata": {},
   "source": [
    "## 15. Столбец (failures) - количество \"фиаско братан\"\n",
    "Данный столбец, хоть и числовой, но несет котегориальный характер. Само понятие \"фиаско\" носит случайный характер, но безусловно влияет на успеваемость. Данные пропущеные сзначения заполняются модой."
   ]
  },
  {
   "cell_type": "code",
   "execution_count": 49,
   "metadata": {},
   "outputs": [
    {
     "name": "stdout",
     "output_type": "stream",
     "text": [
      "В данном столбце 22 незаполненых значений.\n",
      "Среднее: 0.0\n"
     ]
    },
    {
     "data": {
      "image/png": "[encoded data removed]",
      "text/plain": [
       "<Figure size 432x288 with 1 Axes>"
      ]
     },
     "metadata": {
      "needs_background": "light"
     },
     "output_type": "display_data"
    }
   ],
   "source": [
    "estimate_categorical_feature(grade['failures'])"
   ]
  },
  {
   "cell_type": "code",
   "execution_count": 24,
   "metadata": {},
   "outputs": [],
   "source": [
    "get_mode(grade['failures'])"
   ]
  },
  {
   "cell_type": "markdown",
   "metadata": {},
   "source": [
    "## 16. Столбец (schoolsup) - дополнительная образовательная поддержка\n",
    "В данном столбце 9 незаполненых значений. Заполнение значений этого столбца осуществляется после заполнения пустых знаяений столбца \"famsup\", это связано с тем, что если есть домашняя образовательная поддержка, то ее можно относить к дополнительной образовательной поддержке. Так же можно проверить и столбцы \"paid\" (доп занятия по математике), \"activities\" (доп внеучебные занятия). По этому принципу будет произведено заполнение пустых значений в данном столбце."
   ]
  },
  {
   "cell_type": "code",
   "execution_count": 51,
   "metadata": {
    "scrolled": true
   },
   "outputs": [
    {
     "name": "stdout",
     "output_type": "stream",
     "text": [
      "В данном столбце 9 незаполненых значений.\n",
      "Мода: no\n"
     ]
    },
    {
     "data": {
      "image/png": "[encoded data removed]",
      "text/plain": [
       "<Figure size 432x288 with 1 Axes>"
      ]
     },
     "metadata": {
      "needs_background": "light"
     },
     "output_type": "display_data"
    }
   ],
   "source": [
    "estimate_categorical_feature(grade['schoolsup'])"
   ]
  },
  {
   "cell_type": "code",
   "execution_count": 25,
   "metadata": {},
   "outputs": [
    {
     "name": "stdout",
     "output_type": "stream",
     "text": [
      "Было\n",
      "no     335\n",
      "yes     51\n",
      "Name: schoolsup, dtype: int64\n",
      "Стало\n",
      "no     337\n",
      "yes     58\n",
      "Name: schoolsup, dtype: int64\n",
      "В данном столбце 0 незаполненых значений.\n"
     ]
    }
   ],
   "source": [
    "print('Было')\n",
    "print(grade['schoolsup'].value_counts())\n",
    "\n",
    "grade = grade.apply(\n",
    "    fill_schoolsup, # сама функция, которую будем использовать\n",
    "    axis=1, # будем обрабатывать не столбцы целиком, а строки\n",
    ")\n",
    "\n",
    "print('Стало')\n",
    "print(grade['schoolsup'].value_counts())\n",
    "print('В данном столбце {} незаполненых значений.'.format(grade.schoolsup.isnull().sum()))"
   ]
  },
  {
   "cell_type": "markdown",
   "metadata": {},
   "source": [
    "## 17. Столбец (famsup) - семейная образовательная поддержка\n",
    "Данный столбец иимеет 39 пропущенных значений, но его название однозначно указывает на следующее: если родители работают учителями вероятность того, что есть семенная образовательная поддержка выше. Заполнять пропущенные значения буду исходя из этого."
   ]
  },
  {
   "cell_type": "code",
   "execution_count": 53,
   "metadata": {},
   "outputs": [
    {
     "name": "stdout",
     "output_type": "stream",
     "text": [
      "В данном столбце 39 незаполненых значений.\n",
      "Мода: yes\n"
     ]
    },
    {
     "data": {
      "image/png": "[encoded data removed]",
      "text/plain": [
       "<Figure size 432x288 with 1 Axes>"
      ]
     },
     "metadata": {
      "needs_background": "light"
     },
     "output_type": "display_data"
    }
   ],
   "source": [
    "estimate_categorical_feature(grade['famsup'])"
   ]
  },
  {
   "cell_type": "code",
   "execution_count": 26,
   "metadata": {},
   "outputs": [
    {
     "name": "stdout",
     "output_type": "stream",
     "text": [
      "Было\n",
      "yes    219\n",
      "no     137\n",
      "Name: famsup, dtype: int64\n",
      "Стало\n",
      "yes    226\n",
      "no     169\n",
      "Name: famsup, dtype: int64\n",
      "В данном столбце 0 незаполненых значений.\n"
     ]
    }
   ],
   "source": [
    "print('Было')\n",
    "print(grade['famsup'].value_counts())\n",
    "\n",
    "grade = grade.apply(\n",
    "    fill_famsup, # сама функция, которую будем использовать\n",
    "    axis=1, # будем обрабатывать не столбцы целиком, а строки\n",
    ")\n",
    "\n",
    "print('Стало')\n",
    "print(grade['famsup'].value_counts())\n",
    "print('В данном столбце {} незаполненых значений.'.format(grade.famsup.isnull().sum()))"
   ]
  },
  {
   "cell_type": "markdown",
   "metadata": {},
   "source": [
    "## 18. Столбец  (paid) - дополнительные платные занятия по математике"
   ]
  },
  {
   "cell_type": "markdown",
   "metadata": {},
   "source": [
    "В данном столбце не заполнено 40 значений. Это достаточно много. Ввиду того, что значения распределены почи в равном соотношении, пустые значения буду заполнять исходя из взаимосвязи со столбцом \"higher \" (хочет получить высшее образование), зачастую это единственная мотивация для дополнительных ПЛАТНЫХ занятий."
   ]
  },
  {
   "cell_type": "code",
   "execution_count": 55,
   "metadata": {},
   "outputs": [
    {
     "name": "stdout",
     "output_type": "stream",
     "text": [
      "В данном столбце 40 незаполненых значений.\n",
      "Мода: no\n"
     ]
    },
    {
     "data": {
      "image/png": "[encoded data removed]",
      "text/plain": [
       "<Figure size 432x288 with 1 Axes>"
      ]
     },
     "metadata": {
      "needs_background": "light"
     },
     "output_type": "display_data"
    }
   ],
   "source": [
    "estimate_categorical_feature(grade['paid'])"
   ]
  },
  {
   "cell_type": "code",
   "execution_count": 27,
   "metadata": {},
   "outputs": [
    {
     "name": "stdout",
     "output_type": "stream",
     "text": [
      "Было\n",
      "no     200\n",
      "yes    155\n",
      "Name: paid, dtype: int64\n",
      "Стало\n",
      "no     200\n",
      "yes    191\n",
      "Name: paid, dtype: int64\n",
      "В данном столбце 4 незаполненых значений.\n"
     ]
    }
   ],
   "source": [
    "print('Было')\n",
    "print(grade['paid'].value_counts())\n",
    "\n",
    "grade = grade.apply(\n",
    "    fill_paid, # сама функция, которую будем использовать\n",
    "    axis=1, # будем обрабатывать не столбцы целиком, а строки\n",
    ")\n",
    "\n",
    "print('Стало')\n",
    "print(grade['paid'].value_counts())\n",
    "print('В данном столбце {} незаполненых значений.'.format(grade.paid.isnull().sum()))"
   ]
  },
  {
   "cell_type": "markdown",
   "metadata": {},
   "source": [
    "После заполнения столбца осталось 4 значения, думаю это связано с тем, что сам столбец \"higher\" имеет незаполненые значени.\n",
    "Заполню их модой столбца."
   ]
  },
  {
   "cell_type": "code",
   "execution_count": 28,
   "metadata": {},
   "outputs": [
    {
     "name": "stdout",
     "output_type": "stream",
     "text": [
      "Было\n",
      "no     200\n",
      "yes    191\n",
      "Name: paid, dtype: int64\n",
      "Стало\n",
      "no     204\n",
      "yes    191\n",
      "Name: paid, dtype: int64\n",
      "В данном столбце 0 незаполненых значений.\n"
     ]
    }
   ],
   "source": [
    "print('Было')\n",
    "print(grade['paid'].value_counts())\n",
    "\n",
    "grade.paid.fillna(grade.paid.mode()[0], inplace=True)\n",
    "\n",
    "print('Стало')\n",
    "print(grade['paid'].value_counts())\n",
    "print('В данном столбце {} незаполненых значений.'.format(grade.paid.isnull().sum()))"
   ]
  },
  {
   "cell_type": "markdown",
   "metadata": {},
   "source": [
    "## 19. Столбец (activities) - дополнительные внеучебные занятия\n",
    "В этом столбце есть 14 пезаполненых значений. Распределение между признаками равномерно. Логика следующая: если \"famsup\" семейная образовательная поддержка есть, если \"paid\" дополнительные занятия по математике есть, если \"schoolsup\" если дополнительная образовательная поддержка есть, тогда заполняем знаяением \"yes\"."
   ]
  },
  {
   "cell_type": "code",
   "execution_count": 58,
   "metadata": {},
   "outputs": [
    {
     "name": "stdout",
     "output_type": "stream",
     "text": [
      "В данном столбце 14 незаполненых значений.\n",
      "Мода: yes\n"
     ]
    },
    {
     "data": {
      "image/png": "[encoded data removed]",
      "text/plain": [
       "<Figure size 432x288 with 1 Axes>"
      ]
     },
     "metadata": {
      "needs_background": "light"
     },
     "output_type": "display_data"
    }
   ],
   "source": [
    "estimate_categorical_feature(grade['activities'])"
   ]
  },
  {
   "cell_type": "code",
   "execution_count": 29,
   "metadata": {},
   "outputs": [
    {
     "name": "stdout",
     "output_type": "stream",
     "text": [
      "Было\n",
      "yes    195\n",
      "no     186\n",
      "Name: activities, dtype: int64\n",
      "Стало\n",
      "yes    206\n",
      "no     186\n",
      "Name: activities, dtype: int64\n",
      "В данном столбце 3 незаполненых значений.\n"
     ]
    }
   ],
   "source": [
    "print('Было')\n",
    "print(grade['activities'].value_counts())\n",
    "\n",
    "grade = grade.apply(\n",
    "    fill_activities, # сама функция, которую будем использовать\n",
    "    axis=1, # будем обрабатывать не столбцы целиком, а строки\n",
    ")\n",
    "\n",
    "print('Стало')\n",
    "print(grade['activities'].value_counts())\n",
    "print('В данном столбце {} незаполненых значений.'.format(grade.activities.isnull().sum()))"
   ]
  },
  {
   "cell_type": "markdown",
   "metadata": {},
   "source": [
    "Осталось 3 незаполненых значения. Логика подсказывает, что если всех этих доп образований нет, то следует заполнить значение no."
   ]
  },
  {
   "cell_type": "code",
   "execution_count": 30,
   "metadata": {},
   "outputs": [
    {
     "name": "stdout",
     "output_type": "stream",
     "text": [
      "В данном столбце 0 незаполненых значений.\n"
     ]
    }
   ],
   "source": [
    "grade.activities.fillna('no', inplace=True)\n",
    "print('В данном столбце {} незаполненых значений.'.format(grade.activities.isnull().sum()))"
   ]
  },
  {
   "cell_type": "markdown",
   "metadata": {},
   "source": [
    "## 20.Столбец (nursery) - посещал детский сад\n",
    "Данный столбец имеет 16 пропущенных значений. Данный столбец носит категориальный характер, судя по которому большинство учеников посещало детский сад. Заполнение буду производить модой."
   ]
  },
  {
   "cell_type": "code",
   "execution_count": 61,
   "metadata": {},
   "outputs": [
    {
     "name": "stdout",
     "output_type": "stream",
     "text": [
      "В данном столбце 16 незаполненых значений.\n",
      "Мода: yes\n"
     ]
    },
    {
     "data": {
      "image/png": "[encoded data removed]",
      "text/plain": [
       "<Figure size 432x288 with 1 Axes>"
      ]
     },
     "metadata": {
      "needs_background": "light"
     },
     "output_type": "display_data"
    }
   ],
   "source": [
    "estimate_categorical_feature(grade['nursery'])"
   ]
  },
  {
   "cell_type": "code",
   "execution_count": 31,
   "metadata": {},
   "outputs": [],
   "source": [
    "get_mode(grade['nursery'])"
   ]
  },
  {
   "cell_type": "markdown",
   "metadata": {},
   "source": [
    "## 21. Столбец (higher) — хочет получить высшее образование\n",
    "Данный столбец имеет 20 пропущенных значений. Данный столбец носит категориальный характер, судя по которому большинство учеников посещало детский сад. Заполнение буду производить модой."
   ]
  },
  {
   "cell_type": "code",
   "execution_count": 63,
   "metadata": {},
   "outputs": [
    {
     "name": "stdout",
     "output_type": "stream",
     "text": [
      "В данном столбце 20 незаполненых значений.\n",
      "Мода: yes\n"
     ]
    },
    {
     "data": {
      "image/png": "[encoded data removed]",
      "text/plain": [
       "<Figure size 432x288 with 1 Axes>"
      ]
     },
     "metadata": {
      "needs_background": "light"
     },
     "output_type": "display_data"
    }
   ],
   "source": [
    "estimate_categorical_feature(grade['higher'])"
   ]
  },
  {
   "cell_type": "code",
   "execution_count": 32,
   "metadata": {},
   "outputs": [],
   "source": [
    "get_mode(grade['higher'])"
   ]
  },
  {
   "cell_type": "markdown",
   "metadata": {},
   "source": [
    "## 22. Столбец (internet) — наличие интернета дома\n",
    "Данный столбец имеет 20 пропущенных значений. Данный столбец носит категориальный характер, судя по которому большинство учеников дома имеют интернет. Заполнение буду производить модой."
   ]
  },
  {
   "cell_type": "code",
   "execution_count": 65,
   "metadata": {},
   "outputs": [
    {
     "name": "stdout",
     "output_type": "stream",
     "text": [
      "В данном столбце 34 незаполненых значений.\n",
      "Мода: yes\n"
     ]
    },
    {
     "data": {
      "image/png": "[encoded data removed]",
      "text/plain": [
       "<Figure size 432x288 with 1 Axes>"
      ]
     },
     "metadata": {
      "needs_background": "light"
     },
     "output_type": "display_data"
    }
   ],
   "source": [
    "estimate_categorical_feature(grade['internet'])"
   ]
  },
  {
   "cell_type": "code",
   "execution_count": 33,
   "metadata": {},
   "outputs": [],
   "source": [
    "get_mode(grade['internet'])"
   ]
  },
  {
   "cell_type": "markdown",
   "metadata": {},
   "source": [
    "## 23. Столбец (romantic) — в романтических отношениях\n",
    "Данный столбец имеет 31 пропущенное значение. Заполнить эти данные каким либо значение не предоставляется возможным. Заполнение будет произведено значение \"NoData\""
   ]
  },
  {
   "cell_type": "code",
   "execution_count": 67,
   "metadata": {},
   "outputs": [
    {
     "name": "stdout",
     "output_type": "stream",
     "text": [
      "В данном столбце 0 незаполненых значений.\n",
      "Мода: yes\n"
     ]
    },
    {
     "data": {
      "image/png": "[encoded data removed]",
      "text/plain": [
       "<Figure size 432x288 with 1 Axes>"
      ]
     },
     "metadata": {
      "needs_background": "light"
     },
     "output_type": "display_data"
    }
   ],
   "source": [
    "estimate_categorical_feature(grade['internet'])"
   ]
  },
  {
   "cell_type": "code",
   "execution_count": 34,
   "metadata": {},
   "outputs": [],
   "source": [
    "grade.romantic.fillna('NoData', inplace=True)"
   ]
  },
  {
   "cell_type": "markdown",
   "metadata": {},
   "source": [
    "## 24. Столбец (famrel) — семейные отношения\n",
    "В данном столбце есть выброс. Сложно судить каким образом вводили данные, но так как  по модулю это значение подходит под пятибальную шкалу оценки параметров, то просто следует убрать минус."
   ]
  },
  {
   "cell_type": "code",
   "execution_count": 69,
   "metadata": {},
   "outputs": [
    {
     "name": "stdout",
     "output_type": "stream",
     "text": [
      "В данном столбце 27 незаполненых значений.\n",
      "Среднее: 4.0\n"
     ]
    },
    {
     "data": {
      "image/png": "[encoded data removed]",
      "text/plain": [
       "<Figure size 432x288 with 1 Axes>"
      ]
     },
     "metadata": {
      "needs_background": "light"
     },
     "output_type": "display_data"
    }
   ],
   "source": [
    "estimate_categorical_feature(grade['famrel'])"
   ]
  },
  {
   "cell_type": "code",
   "execution_count": 109,
   "metadata": {},
   "outputs": [
    {
     "data": {
      "text/html": [
       "<div>\n",
       "<style scoped>\n",
       "    .dataframe tbody tr th:only-of-type {\n",
       "        vertical-align: middle;\n",
       "    }\n",
       "\n",
       "    .dataframe tbody tr th {\n",
       "        vertical-align: top;\n",
       "    }\n",
       "\n",
       "    .dataframe thead th {\n",
       "        text-align: right;\n",
       "    }\n",
       "</style>\n",
       "<table border=\"1\" class=\"dataframe\">\n",
       "  <thead>\n",
       "    <tr style=\"text-align: right;\">\n",
       "      <th></th>\n",
       "      <th>school</th>\n",
       "      <th>sex</th>\n",
       "      <th>age</th>\n",
       "      <th>address</th>\n",
       "      <th>famsize</th>\n",
       "      <th>pstatus</th>\n",
       "      <th>medu</th>\n",
       "      <th>fedu</th>\n",
       "      <th>mjob</th>\n",
       "      <th>fjob</th>\n",
       "      <th>reason</th>\n",
       "      <th>guardian</th>\n",
       "      <th>traveltime</th>\n",
       "      <th>studytime</th>\n",
       "      <th>failures</th>\n",
       "      <th>schoolsup</th>\n",
       "      <th>famsup</th>\n",
       "      <th>paid</th>\n",
       "      <th>activities</th>\n",
       "      <th>nursery</th>\n",
       "      <th>granular</th>\n",
       "      <th>higher</th>\n",
       "      <th>internet</th>\n",
       "      <th>romantic</th>\n",
       "      <th>famrel</th>\n",
       "      <th>freetime</th>\n",
       "      <th>goout</th>\n",
       "      <th>health</th>\n",
       "      <th>absences</th>\n",
       "      <th>score</th>\n",
       "    </tr>\n",
       "  </thead>\n",
       "  <tbody>\n",
       "    <tr>\n",
       "      <th>25</th>\n",
       "      <td>GP</td>\n",
       "      <td>F</td>\n",
       "      <td>16</td>\n",
       "      <td>U</td>\n",
       "      <td>GT3</td>\n",
       "      <td>A</td>\n",
       "      <td>2.0</td>\n",
       "      <td>2.0</td>\n",
       "      <td>services</td>\n",
       "      <td>services</td>\n",
       "      <td>home</td>\n",
       "      <td>mother</td>\n",
       "      <td>1.0</td>\n",
       "      <td>1.0</td>\n",
       "      <td>2.0</td>\n",
       "      <td>no</td>\n",
       "      <td>yes</td>\n",
       "      <td>yes</td>\n",
       "      <td>no</td>\n",
       "      <td>no</td>\n",
       "      <td>-3.0</td>\n",
       "      <td>yes</td>\n",
       "      <td>yes</td>\n",
       "      <td>no</td>\n",
       "      <td>-1.0</td>\n",
       "      <td>2.0</td>\n",
       "      <td>2.0</td>\n",
       "      <td>5.0</td>\n",
       "      <td>14.0</td>\n",
       "      <td>40.0</td>\n",
       "    </tr>\n",
       "  </tbody>\n",
       "</table>\n",
       "</div>"
      ],
      "text/plain": [
       "   school sex  age address famsize pstatus  medu  fedu      mjob      fjob  \\\n",
       "25     GP   F   16       U     GT3       A   2.0   2.0  services  services   \n",
       "\n",
       "   reason guardian  traveltime  studytime  failures schoolsup famsup paid  \\\n",
       "25   home   mother         1.0        1.0       2.0        no    yes  yes   \n",
       "\n",
       "   activities nursery  granular higher internet romantic  famrel  freetime  \\\n",
       "25         no      no      -3.0    yes      yes       no    -1.0       2.0   \n",
       "\n",
       "    goout  health  absences  score  \n",
       "25    2.0     5.0      14.0   40.0  "
      ]
     },
     "execution_count": 109,
     "metadata": {},
     "output_type": "execute_result"
    }
   ],
   "source": [
    "pd.DataFrame(grade[grade.famrel < 0])"
   ]
  },
  {
   "cell_type": "code",
   "execution_count": 35,
   "metadata": {},
   "outputs": [],
   "source": [
    "grade['famrel'] = grade.famrel.apply(lambda x: math.fabs(x)  if x < 0 else x)"
   ]
  },
  {
   "cell_type": "code",
   "execution_count": 71,
   "metadata": {},
   "outputs": [
    {
     "name": "stdout",
     "output_type": "stream",
     "text": [
      "В данном столбце 27 незаполненых значений.\n",
      "Среднее: 4.0\n"
     ]
    },
    {
     "data": {
      "image/png": "[encoded data removed]",
      "text/plain": [
       "<Figure size 432x288 with 1 Axes>"
      ]
     },
     "metadata": {
      "needs_background": "light"
     },
     "output_type": "display_data"
    }
   ],
   "source": [
    "estimate_categorical_feature(grade['famrel'])"
   ]
  },
  {
   "cell_type": "code",
   "execution_count": 36,
   "metadata": {},
   "outputs": [],
   "source": [
    "get_mode(grade['famrel'])"
   ]
  },
  {
   "cell_type": "markdown",
   "metadata": {},
   "source": [
    "##  25. Столбец (freetime) — свободное время после школы\n",
    "Данный столбец имет котегориальный признак, распределенный по нормальномй закону. Заполнять пустые значения следует модой."
   ]
  },
  {
   "cell_type": "code",
   "execution_count": 73,
   "metadata": {},
   "outputs": [
    {
     "name": "stdout",
     "output_type": "stream",
     "text": [
      "В данном столбце 11 незаполненых значений.\n",
      "Среднее: 3.0\n"
     ]
    },
    {
     "data": {
      "image/png": "[encoded data removed]",
      "text/plain": [
       "<Figure size 432x288 with 1 Axes>"
      ]
     },
     "metadata": {
      "needs_background": "light"
     },
     "output_type": "display_data"
    }
   ],
   "source": [
    "estimate_categorical_feature(grade['freetime'])"
   ]
  },
  {
   "cell_type": "code",
   "execution_count": 37,
   "metadata": {},
   "outputs": [],
   "source": [
    "get_mode(grade['freetime'])"
   ]
  },
  {
   "cell_type": "markdown",
   "metadata": {},
   "source": [
    "## 26. Столбец (goout) - проведение времяни с друзьями\n",
    "Признак данного столбца распределен по нормальному закону и носит котегориальный характер. Заполнять пропущенные значения следует модой."
   ]
  },
  {
   "cell_type": "code",
   "execution_count": 75,
   "metadata": {},
   "outputs": [
    {
     "name": "stdout",
     "output_type": "stream",
     "text": [
      "В данном столбце 8 незаполненых значений.\n",
      "Среднее: 3.0\n"
     ]
    },
    {
     "data": {
      "image/png": "[encoded data removed]",
      "text/plain": [
       "<Figure size 432x288 with 1 Axes>"
      ]
     },
     "metadata": {
      "needs_background": "light"
     },
     "output_type": "display_data"
    }
   ],
   "source": [
    "estimate_categorical_feature(grade['goout'])"
   ]
  },
  {
   "cell_type": "code",
   "execution_count": 38,
   "metadata": {},
   "outputs": [],
   "source": [
    "get_mode(grade['goout'])"
   ]
  },
  {
   "cell_type": "markdown",
   "metadata": {},
   "source": [
    "## 27. Столбец (health)  - состояние здоровья\n",
    "Данный столбец носит котегориальный характер, незаполненые значения следует заполнить заполнить модой."
   ]
  },
  {
   "cell_type": "code",
   "execution_count": 77,
   "metadata": {},
   "outputs": [
    {
     "name": "stdout",
     "output_type": "stream",
     "text": [
      "В данном столбце 15 незаполненых значений.\n",
      "Среднее: 4.0\n"
     ]
    },
    {
     "data": {
      "image/png": "[encoded data removed]",
      "text/plain": [
       "<Figure size 432x288 with 1 Axes>"
      ]
     },
     "metadata": {
      "needs_background": "light"
     },
     "output_type": "display_data"
    }
   ],
   "source": [
    "estimate_categorical_feature(grade['health'])"
   ]
  },
  {
   "cell_type": "code",
   "execution_count": 39,
   "metadata": {},
   "outputs": [],
   "source": [
    "get_mode(grade['health'])"
   ]
  },
  {
   "cell_type": "markdown",
   "metadata": {},
   "source": [
    "## 28. Столбец (absences) - количество пропущенных занятий\n",
    "Информация данного столбца несет колличественный признак. Имеются выбросы.\n",
    "После фильтрации выбросов пропущенные значения следует заполнять модой."
   ]
  },
  {
   "cell_type": "code",
   "execution_count": 79,
   "metadata": {},
   "outputs": [
    {
     "name": "stdout",
     "output_type": "stream",
     "text": [
      "В данном столбце 12 незаполненых значений.\n",
      "Среднее: 7.0\n"
     ]
    },
    {
     "data": {
      "image/png": "[encoded data removed]",
      "text/plain": [
       "<Figure size 432x288 with 1 Axes>"
      ]
     },
     "metadata": {
      "needs_background": "light"
     },
     "output_type": "display_data"
    }
   ],
   "source": [
    "estimate_categorical_feature(grade['absences'])"
   ]
  },
  {
   "cell_type": "code",
   "execution_count": 40,
   "metadata": {},
   "outputs": [],
   "source": [
    "def remove_outliers(grade: pd.DataFrame, column: str) -> pd.DataFrame:\n",
    "    Q1, Q3 = grade[column].quantile(0.25), grade[column].quantile(0.75)\n",
    "    IQR = Q3 - Q1\n",
    "    grade[column].fillna(((Q3 + 1.5 * IQR)-(Q1 - 1.5 * IQR)).mean(), inplace=True)\n",
    "    return grade[\n",
    "        (grade[column] >= Q1 - 1.5 * IQR) &\n",
    "        (grade[column] <= Q3 + 1.5 * IQR)\n",
    "    ]"
   ]
  },
  {
   "cell_type": "code",
   "execution_count": 41,
   "metadata": {},
   "outputs": [
    {
     "data": {
      "image/png": "[encoded data removed]",
      "text/plain": [
       "<Figure size 432x288 with 1 Axes>"
      ]
     },
     "metadata": {
      "needs_background": "light"
     },
     "output_type": "display_data"
    }
   ],
   "source": [
    "plt.show()\n",
    "grade = remove_outliers(grade, 'absences')\n",
    "grade['absences'].hist()\n",
    "plt.show()"
   ]
  },
  {
   "cell_type": "markdown",
   "metadata": {},
   "source": [
    "## 29. Столбец (score) - результат экзамена\n",
    "Данный столбец имеет категориальный характер оценки распределенный по нормальному закону. Значения в данном столбце можно и заполнить, но это окажет прямое воздействие результат анализа. Т.К. пропущенных значений не много их следует просто удалить. Те значения, что обозначены 0, принимать за выброс не стоит. Есть вероятность, что это либо оценка, либо отсутствие ученика на экзамене."
   ]
  },
  {
   "cell_type": "code",
   "execution_count": 82,
   "metadata": {},
   "outputs": [
    {
     "name": "stdout",
     "output_type": "stream",
     "text": [
      "В данном столбце 5 незаполненых значений.\n",
      "Среднее: 52.0\n"
     ]
    },
    {
     "data": {
      "image/png": "[encoded data removed]",
      "text/plain": [
       "<Figure size 432x288 with 1 Axes>"
      ]
     },
     "metadata": {
      "needs_background": "light"
     },
     "output_type": "display_data"
    }
   ],
   "source": [
    "estimate_categorical_feature(grade['score'])"
   ]
  },
  {
   "cell_type": "code",
   "execution_count": 42,
   "metadata": {},
   "outputs": [
    {
     "name": "stdout",
     "output_type": "stream",
     "text": [
      "В столбце score было пропущенных значений: 5\n",
      "В столбце score стало пропущенных значений: 0\n"
     ]
    }
   ],
   "source": [
    "clmn = 'score'\n",
    "print(f'В столбце {clmn} было пропущенных значений: {grade[clmn].isnull().sum()}')\n",
    "grade.dropna(\n",
    "    inplace=True, # чтобы заменить в самом датафрейме не копируя в памяти\n",
    "    subset=[clmn,], # список колонок, по которым мы хотим удалять пустые значения\n",
    "    )\n",
    "print(f'В столбце {clmn} стало пропущенных значений: {grade[clmn].isnull().sum()}')"
   ]
  },
  {
   "cell_type": "markdown",
   "metadata": {},
   "source": [
    "Также в данном Data Frame имеется столбец \"granular\", он имеет обратную зависимость со столбцом \"studytime\""
   ]
  },
  {
   "cell_type": "code",
   "execution_count": 84,
   "metadata": {},
   "outputs": [
    {
     "name": "stdout",
     "output_type": "stream",
     "text": [
      "В данном столбце 5 незаполненых значений.\n",
      "Среднее: -6.0\n"
     ]
    },
    {
     "data": {
      "image/png": "[encoded data removed]",
      "text/plain": [
       "<Figure size 432x288 with 1 Axes>"
      ]
     },
     "metadata": {
      "needs_background": "light"
     },
     "output_type": "display_data"
    }
   ],
   "source": [
    "estimate_categorical_feature(grade['granular'])"
   ]
  },
  {
   "cell_type": "code",
   "execution_count": 85,
   "metadata": {},
   "outputs": [],
   "source": [
    "get_mode(grade['granular'])"
   ]
  },
  {
   "cell_type": "markdown",
   "metadata": {},
   "source": [
    "## Корреляционный анализ"
   ]
  },
  {
   "cell_type": "code",
   "execution_count": 44,
   "metadata": {},
   "outputs": [
    {
     "name": "stdout",
     "output_type": "stream",
     "text": [
      "['age', 'medu', 'fedu', 'traveltime', 'studytime', 'failures', 'granular', 'famrel', 'freetime', 'goout', 'health', 'absences', 'score']\n"
     ]
    },
    {
     "data": {
      "image/png": "[encoded data removed]",
      "text/plain": [
       "<Figure size 864x864 with 2 Axes>"
      ]
     },
     "metadata": {
      "needs_background": "light"
     },
     "output_type": "display_data"
    }
   ],
   "source": [
    "# Посмотрим на скоррелированность переменных между собой\n",
    "# Определим числовые переменные:\n",
    "numerical_columns_names = []\n",
    "categorical_column_names = []\n",
    "for column in grade.columns:\n",
    "    if grade[column].dtype == 'float64' or grade[column].dtype == 'int64':\n",
    "        numerical_columns_names.append(column)\n",
    "    else:\n",
    "        categorical_column_names.append(column)\n",
    "\n",
    "print(numerical_columns_names)\n",
    "# построим корреляционную матрицу количественных переменных\n",
    "plt.figure(figsize=(12, 12))\n",
    "sns.heatmap(grade[numerical_columns_names].corr(), fmt='.2f', annot=True)\n",
    "plt.show()"
   ]
  },
  {
   "cell_type": "markdown",
   "metadata": {},
   "source": [
    "Согласно тепловой карты, имеются значемые корреляци следующих признаков:\n",
    "1. studytime - granular (-1.0)\n",
    "2. medu - fedu (0.59)\n",
    "3. groout - freetime (0.29)\n",
    "4. score - failures (-0.34)\n",
    "\n",
    "Отсюда следует, что для окончательной модели я удалю признак \"studytime\", ввиду высокой кореляции с признаком \"granular\".\n",
    "Остальные признаки удалять не буду. Хоть и образование родителей имеет высокую степень корреляции, я все равно пока оставлю оба столбца (цель: проверить работу модели и с одним признаком и с другим)"
   ]
  },
  {
   "cell_type": "code",
   "execution_count": 45,
   "metadata": {},
   "outputs": [],
   "source": [
    "grade.drop(['studytime'], axis = 1, inplace=True)"
   ]
  },
  {
   "cell_type": "markdown",
   "metadata": {},
   "source": [
    "## Анализ номинативных переменных\n",
    "Для того, чтобы проверить статистическую зависимость между признакми, путем визуального анализа диаграмм распределения внутри каждой подгруппы, строим диаграммы размаха (boxplot)."
   ]
  },
  {
   "cell_type": "code",
   "execution_count": 46,
   "metadata": {},
   "outputs": [
    {
     "data": {
      "image/png": "[encoded data removed]",
      "text/plain": [
       "<Figure size 1800x2880 with 20 Axes>"
      ]
     },
     "metadata": {
      "needs_background": "light"
     },
     "output_type": "display_data"
    }
   ],
   "source": [
    "plot_columns(grade, ['school', 'sex', 'address', 'famsize', 'pstatus', \n",
    "            'mjob', 'fjob', 'reason', 'guardian', 'schoolsup', \n",
    "            'famsup', 'paid', 'activities', 'nursery', 'higher',\n",
    "           'internet', 'romantic'], 5, 4)\n",
    "plt.tight_layout()\n",
    "plt.xticks(rotation=45)\n",
    "\n",
    "plt.savefig('test.png')\n",
    "plt.show()"
   ]
  },
  {
   "cell_type": "markdown",
   "metadata": {},
   "source": [
    "Согласно визуальному анализу номинативных переменных на итоговую оценку не оказывают влияние следующие параметры:\n",
    "- school (школа);\n",
    "- fjob (работа отца);\n",
    "- famesize (размер семьи);\n",
    "- pstatus (статус семейной жизни родителей);\n",
    "- reason (причина выбора школы);\n",
    "- guardian (опекун);\n",
    "- famsup!!! (семейная образовательная поддержка);\n",
    "- paid!!! (дополниткльные платные занятия по математике);\n",
    "- activities!!! (дополнительные внеучебные занятия);\n",
    "- nursery (посещение детского сада);    "
   ]
  },
  {
   "cell_type": "markdown",
   "metadata": {},
   "source": [
    "Проверим, есть ли статистическая разница в распределении оценок по номинативным признакам, с помощью теста Стьюдента. Проверим нулевую гипотезу о том, что распределения оценок экзамена по математике по различным параметрам неразличимы:"
   ]
  },
  {
   "cell_type": "code",
   "execution_count": 50,
   "metadata": {},
   "outputs": [
    {
     "name": "stdout",
     "output_type": "stream",
     "text": [
      "Найдены статистически значимые различия для колонки sex\n",
      "Найдены статистически значимые различия для колонки address\n",
      "Найдены статистически значимые различия для колонки mjob\n",
      "Найдены статистически значимые различия для колонки higher\n",
      "Найдены статистически значимые различия для колонки romantic\n"
     ]
    }
   ],
   "source": [
    "def get_stat_dif(column):\n",
    "    cols = grade.loc[:, column].value_counts().index[:]\n",
    "    combinations_all = list(combinations(cols, 2))\n",
    "    for comb in combinations_all:\n",
    "        if ttest_ind(grade.loc[grade.loc[:, column] == comb[0], 'score'].dropna(), \n",
    "                        grade.loc[grade.loc[:, column] == comb[1], 'score'].dropna()).pvalue \\\n",
    "            <= 0.05/len(combinations_all): # Учли поправку Бонферони\n",
    "            print('Найдены статистически значимые различия для колонки', column)\n",
    "            break\n",
    "for col in ['school', 'sex', 'address', 'famsize', 'pstatus', \n",
    "            'mjob', 'fjob', 'reason', 'guardian', 'schoolsup', \n",
    "            'famsup', 'paid', 'activities', 'nursery', 'higher',\n",
    "           'internet', 'romantic']:\n",
    "    get_stat_dif(col)"
   ]
  },
  {
   "cell_type": "markdown",
   "metadata": {},
   "source": [
    "Исходя из теста, можно сделать вывод, что есть значемые различия в следующих столбцах: sex, address, mjob, higher, romantic. Оставим их для дальнейшего построения модели. \n",
    "\n",
    "И так исходная модель будет иметь следующий набор данных.\n"
   ]
  },
  {
   "cell_type": "code",
   "execution_count": 51,
   "metadata": {},
   "outputs": [],
   "source": [
    "grade.drop(['school','famsize', 'pstatus', \n",
    "            'reason', 'fjob','guardian', 'schoolsup', \n",
    "            'famsup', 'paid', 'activities',\n",
    "            'nursery','internet',], axis = 1, inplace=True)"
   ]
  },
  {
   "cell_type": "code",
   "execution_count": 52,
   "metadata": {},
   "outputs": [
    {
     "name": "stdout",
     "output_type": "stream",
     "text": [
      "(361, 17)\n"
     ]
    }
   ],
   "source": [
    "print(grade.shape)"
   ]
  },
  {
   "cell_type": "code",
   "execution_count": 53,
   "metadata": {},
   "outputs": [
    {
     "data": {
      "text/html": [
       "<div>\n",
       "<style scoped>\n",
       "    .dataframe tbody tr th:only-of-type {\n",
       "        vertical-align: middle;\n",
       "    }\n",
       "\n",
       "    .dataframe tbody tr th {\n",
       "        vertical-align: top;\n",
       "    }\n",
       "\n",
       "    .dataframe thead th {\n",
       "        text-align: right;\n",
       "    }\n",
       "</style>\n",
       "<table border=\"1\" class=\"dataframe\">\n",
       "  <thead>\n",
       "    <tr style=\"text-align: right;\">\n",
       "      <th></th>\n",
       "      <th>sex</th>\n",
       "      <th>age</th>\n",
       "      <th>address</th>\n",
       "      <th>medu</th>\n",
       "      <th>fedu</th>\n",
       "      <th>mjob</th>\n",
       "      <th>traveltime</th>\n",
       "      <th>failures</th>\n",
       "      <th>granular</th>\n",
       "      <th>higher</th>\n",
       "      <th>romantic</th>\n",
       "      <th>famrel</th>\n",
       "      <th>freetime</th>\n",
       "      <th>goout</th>\n",
       "      <th>health</th>\n",
       "      <th>absences</th>\n",
       "      <th>score</th>\n",
       "    </tr>\n",
       "  </thead>\n",
       "  <tbody>\n",
       "    <tr>\n",
       "      <th>0</th>\n",
       "      <td>F</td>\n",
       "      <td>18</td>\n",
       "      <td>U</td>\n",
       "      <td>4.0</td>\n",
       "      <td>4.0</td>\n",
       "      <td>at_home</td>\n",
       "      <td>2.0</td>\n",
       "      <td>0.0</td>\n",
       "      <td>-6.0</td>\n",
       "      <td>yes</td>\n",
       "      <td>no</td>\n",
       "      <td>4.0</td>\n",
       "      <td>3.0</td>\n",
       "      <td>4.0</td>\n",
       "      <td>3.0</td>\n",
       "      <td>6.0</td>\n",
       "      <td>30.0</td>\n",
       "    </tr>\n",
       "    <tr>\n",
       "      <th>1</th>\n",
       "      <td>F</td>\n",
       "      <td>17</td>\n",
       "      <td>U</td>\n",
       "      <td>1.0</td>\n",
       "      <td>1.0</td>\n",
       "      <td>at_home</td>\n",
       "      <td>1.0</td>\n",
       "      <td>0.0</td>\n",
       "      <td>-6.0</td>\n",
       "      <td>yes</td>\n",
       "      <td>no</td>\n",
       "      <td>5.0</td>\n",
       "      <td>3.0</td>\n",
       "      <td>3.0</td>\n",
       "      <td>3.0</td>\n",
       "      <td>4.0</td>\n",
       "      <td>30.0</td>\n",
       "    </tr>\n",
       "    <tr>\n",
       "      <th>2</th>\n",
       "      <td>F</td>\n",
       "      <td>15</td>\n",
       "      <td>U</td>\n",
       "      <td>1.0</td>\n",
       "      <td>1.0</td>\n",
       "      <td>at_home</td>\n",
       "      <td>1.0</td>\n",
       "      <td>3.0</td>\n",
       "      <td>-6.0</td>\n",
       "      <td>yes</td>\n",
       "      <td>NoData</td>\n",
       "      <td>4.0</td>\n",
       "      <td>3.0</td>\n",
       "      <td>2.0</td>\n",
       "      <td>3.0</td>\n",
       "      <td>10.0</td>\n",
       "      <td>50.0</td>\n",
       "    </tr>\n",
       "    <tr>\n",
       "      <th>3</th>\n",
       "      <td>F</td>\n",
       "      <td>15</td>\n",
       "      <td>U</td>\n",
       "      <td>4.0</td>\n",
       "      <td>2.0</td>\n",
       "      <td>health</td>\n",
       "      <td>1.0</td>\n",
       "      <td>0.0</td>\n",
       "      <td>-9.0</td>\n",
       "      <td>yes</td>\n",
       "      <td>yes</td>\n",
       "      <td>3.0</td>\n",
       "      <td>2.0</td>\n",
       "      <td>2.0</td>\n",
       "      <td>5.0</td>\n",
       "      <td>2.0</td>\n",
       "      <td>75.0</td>\n",
       "    </tr>\n",
       "    <tr>\n",
       "      <th>4</th>\n",
       "      <td>F</td>\n",
       "      <td>16</td>\n",
       "      <td>U</td>\n",
       "      <td>3.0</td>\n",
       "      <td>3.0</td>\n",
       "      <td>other</td>\n",
       "      <td>1.0</td>\n",
       "      <td>0.0</td>\n",
       "      <td>-6.0</td>\n",
       "      <td>yes</td>\n",
       "      <td>no</td>\n",
       "      <td>4.0</td>\n",
       "      <td>3.0</td>\n",
       "      <td>2.0</td>\n",
       "      <td>5.0</td>\n",
       "      <td>4.0</td>\n",
       "      <td>50.0</td>\n",
       "    </tr>\n",
       "    <tr>\n",
       "      <th>...</th>\n",
       "      <td>...</td>\n",
       "      <td>...</td>\n",
       "      <td>...</td>\n",
       "      <td>...</td>\n",
       "      <td>...</td>\n",
       "      <td>...</td>\n",
       "      <td>...</td>\n",
       "      <td>...</td>\n",
       "      <td>...</td>\n",
       "      <td>...</td>\n",
       "      <td>...</td>\n",
       "      <td>...</td>\n",
       "      <td>...</td>\n",
       "      <td>...</td>\n",
       "      <td>...</td>\n",
       "      <td>...</td>\n",
       "      <td>...</td>\n",
       "    </tr>\n",
       "    <tr>\n",
       "      <th>389</th>\n",
       "      <td>F</td>\n",
       "      <td>18</td>\n",
       "      <td>U</td>\n",
       "      <td>1.0</td>\n",
       "      <td>1.0</td>\n",
       "      <td>other</td>\n",
       "      <td>1.0</td>\n",
       "      <td>1.0</td>\n",
       "      <td>-6.0</td>\n",
       "      <td>yes</td>\n",
       "      <td>no</td>\n",
       "      <td>1.0</td>\n",
       "      <td>1.0</td>\n",
       "      <td>1.0</td>\n",
       "      <td>5.0</td>\n",
       "      <td>0.0</td>\n",
       "      <td>0.0</td>\n",
       "    </tr>\n",
       "    <tr>\n",
       "      <th>391</th>\n",
       "      <td>M</td>\n",
       "      <td>17</td>\n",
       "      <td>U</td>\n",
       "      <td>3.0</td>\n",
       "      <td>1.0</td>\n",
       "      <td>services</td>\n",
       "      <td>2.0</td>\n",
       "      <td>0.0</td>\n",
       "      <td>-3.0</td>\n",
       "      <td>yes</td>\n",
       "      <td>no</td>\n",
       "      <td>2.0</td>\n",
       "      <td>4.0</td>\n",
       "      <td>5.0</td>\n",
       "      <td>2.0</td>\n",
       "      <td>3.0</td>\n",
       "      <td>80.0</td>\n",
       "    </tr>\n",
       "    <tr>\n",
       "      <th>392</th>\n",
       "      <td>M</td>\n",
       "      <td>21</td>\n",
       "      <td>R</td>\n",
       "      <td>1.0</td>\n",
       "      <td>1.0</td>\n",
       "      <td>other</td>\n",
       "      <td>1.0</td>\n",
       "      <td>3.0</td>\n",
       "      <td>-3.0</td>\n",
       "      <td>yes</td>\n",
       "      <td>no</td>\n",
       "      <td>5.0</td>\n",
       "      <td>5.0</td>\n",
       "      <td>3.0</td>\n",
       "      <td>3.0</td>\n",
       "      <td>3.0</td>\n",
       "      <td>35.0</td>\n",
       "    </tr>\n",
       "    <tr>\n",
       "      <th>393</th>\n",
       "      <td>M</td>\n",
       "      <td>18</td>\n",
       "      <td>R</td>\n",
       "      <td>3.0</td>\n",
       "      <td>2.0</td>\n",
       "      <td>services</td>\n",
       "      <td>3.0</td>\n",
       "      <td>0.0</td>\n",
       "      <td>-3.0</td>\n",
       "      <td>yes</td>\n",
       "      <td>no</td>\n",
       "      <td>4.0</td>\n",
       "      <td>4.0</td>\n",
       "      <td>1.0</td>\n",
       "      <td>5.0</td>\n",
       "      <td>0.0</td>\n",
       "      <td>50.0</td>\n",
       "    </tr>\n",
       "    <tr>\n",
       "      <th>394</th>\n",
       "      <td>M</td>\n",
       "      <td>19</td>\n",
       "      <td>U</td>\n",
       "      <td>1.0</td>\n",
       "      <td>1.0</td>\n",
       "      <td>other</td>\n",
       "      <td>1.0</td>\n",
       "      <td>0.0</td>\n",
       "      <td>-3.0</td>\n",
       "      <td>yes</td>\n",
       "      <td>no</td>\n",
       "      <td>3.0</td>\n",
       "      <td>2.0</td>\n",
       "      <td>3.0</td>\n",
       "      <td>5.0</td>\n",
       "      <td>5.0</td>\n",
       "      <td>45.0</td>\n",
       "    </tr>\n",
       "  </tbody>\n",
       "</table>\n",
       "<p>361 rows × 17 columns</p>\n",
       "</div>"
      ],
      "text/plain": [
       "    sex  age address  medu  fedu      mjob  traveltime  failures  granular  \\\n",
       "0     F   18       U   4.0   4.0   at_home         2.0       0.0      -6.0   \n",
       "1     F   17       U   1.0   1.0   at_home         1.0       0.0      -6.0   \n",
       "2     F   15       U   1.0   1.0   at_home         1.0       3.0      -6.0   \n",
       "3     F   15       U   4.0   2.0    health         1.0       0.0      -9.0   \n",
       "4     F   16       U   3.0   3.0     other         1.0       0.0      -6.0   \n",
       "..   ..  ...     ...   ...   ...       ...         ...       ...       ...   \n",
       "389   F   18       U   1.0   1.0     other         1.0       1.0      -6.0   \n",
       "391   M   17       U   3.0   1.0  services         2.0       0.0      -3.0   \n",
       "392   M   21       R   1.0   1.0     other         1.0       3.0      -3.0   \n",
       "393   M   18       R   3.0   2.0  services         3.0       0.0      -3.0   \n",
       "394   M   19       U   1.0   1.0     other         1.0       0.0      -3.0   \n",
       "\n",
       "    higher romantic  famrel  freetime  goout  health  absences  score  \n",
       "0      yes       no     4.0       3.0    4.0     3.0       6.0   30.0  \n",
       "1      yes       no     5.0       3.0    3.0     3.0       4.0   30.0  \n",
       "2      yes   NoData     4.0       3.0    2.0     3.0      10.0   50.0  \n",
       "3      yes      yes     3.0       2.0    2.0     5.0       2.0   75.0  \n",
       "4      yes       no     4.0       3.0    2.0     5.0       4.0   50.0  \n",
       "..     ...      ...     ...       ...    ...     ...       ...    ...  \n",
       "389    yes       no     1.0       1.0    1.0     5.0       0.0    0.0  \n",
       "391    yes       no     2.0       4.0    5.0     2.0       3.0   80.0  \n",
       "392    yes       no     5.0       5.0    3.0     3.0       3.0   35.0  \n",
       "393    yes       no     4.0       4.0    1.0     5.0       0.0   50.0  \n",
       "394    yes       no     3.0       2.0    3.0     5.0       5.0   45.0  \n",
       "\n",
       "[361 rows x 17 columns]"
      ]
     },
     "execution_count": 53,
     "metadata": {},
     "output_type": "execute_result"
    }
   ],
   "source": [
    "grade"
   ]
  },
  {
   "cell_type": "markdown",
   "metadata": {},
   "source": [
    "## Выводы:\n",
    "В результате EDA-анализа влияния факторов жизни студента на итоговую оценку экзамена по математике можно сделать следкющие выводы:\n",
    "- не смотря на достаточно большое количество факторов мы имеем относительно не большую выборку;\n",
    "- окло 10 % факторов имеют достаточно большое количество пропусков, удаление которых может влиять на результат;\n",
    "- выбросов в данных не много, данные достаточно чистые;\n",
    "- высокая корреляция параметров score - failures (-0.34) показывает, что жизненные неудачи в достаточной степени влияют на учебу;\n",
    "- параметрами для построения дальнейшей модели послужат: sex, age, address, medu (fedu), mjob, traveltime, failures, granular, higher, romantic, famreal, freetime (goout), health, absence, score.\n",
    "\n"
   ]
  }
 ],
 "metadata": {
  "kernelspec": {
   "display_name": "Python 3",
   "language": "python",
   "name": "python3"
  },
  "language_info": {
   "codemirror_mode": {
    "name": "ipython",
    "version": 3
   },
   "file_extension": ".py",
   "mimetype": "text/x-python",
   "name": "python",
   "nbconvert_exporter": "python",
   "pygments_lexer": "ipython3",
   "version": "3.8.5"
  }
 },
 "nbformat": 4,
 "nbformat_minor": 4
}
